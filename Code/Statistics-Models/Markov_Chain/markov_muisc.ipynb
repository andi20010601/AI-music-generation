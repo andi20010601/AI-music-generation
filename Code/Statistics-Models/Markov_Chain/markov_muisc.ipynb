{
 "cells": [
  {
   "cell_type": "markdown",
   "source": [
    "# Music generation"
   ],
   "metadata": {
    "collapsed": false
   }
  },
  {
   "cell_type": "markdown",
   "source": [
    "## import packages"
   ],
   "metadata": {
    "collapsed": false
   }
  },
  {
   "cell_type": "code",
   "execution_count": 23,
   "outputs": [],
   "source": [
    "import tensorflow\n",
    "import numpy as np\n",
    "import os\n",
    "import pandas as pd\n",
    "from collections import Counter\n",
    "from hmmtool import HMM\n",
    "import numpy as np\n",
    "import random\n",
    "import IPython\n",
    "from IPython.display import Image, Audio\n",
    "import music21\n",
    "from music21 import *\n",
    "import matplotlib.pyplot as plt\n",
    "from sklearn.model_selection import train_test_split\n",
    "from tensorflow.keras.models import Sequential\n",
    "from tensorflow.keras.layers import LSTM, Dense, Dropout\n",
    "import tensorflow.keras.backend as K\n",
    "from tensorflow.keras.optimizers import Adamax\n",
    "import seaborn as sns\n",
    "import matplotlib.pyplot as plt\n",
    "import matplotlib.patches as mpatches\n",
    "%matplotlib inline\n",
    "import sys\n",
    "import warnings\n",
    "\n",
    "warnings.filterwarnings(\"ignore\")\n",
    "warnings.simplefilter(\"ignore\")\n",
    "np.random.seed(42)"
   ],
   "metadata": {
    "collapsed": false,
    "pycharm": {
     "name": "#%%\n"
    }
   }
  },
  {
   "cell_type": "markdown",
   "source": [
    "## load data"
   ],
   "metadata": {
    "collapsed": false
   }
  },
  {
   "cell_type": "markdown",
   "source": [
    "使用古典钢琴音乐的MIDI文件。"
   ],
   "metadata": {
    "collapsed": false
   }
  },
  {
   "cell_type": "code",
   "execution_count": 24,
   "outputs": [],
   "source": [
    "# pianist = \"Debussy\"\n",
    "# pianist = \"Chopin\"\n",
    "pianist = \"Bach\""
   ],
   "metadata": {
    "collapsed": false,
    "pycharm": {
     "name": "#%%\n"
    }
   }
  },
  {
   "cell_type": "code",
   "execution_count": 25,
   "outputs": [
    {
     "data": {
      "text/plain": "[<music21.stream.Score 0x161304580>]"
     },
     "execution_count": 25,
     "metadata": {},
     "output_type": "execute_result"
    }
   ],
   "source": [
    "filepath = \"dataset/piano/bach/bach1/\"\n",
    "#Getting midi files\n",
    "all_midis = []\n",
    "for i in os.listdir(filepath):\n",
    "    if i.endswith(\".mid\") or i.endswith(\".MID\"):\n",
    "        tr = filepath + i\n",
    "        midi = converter.parse(tr)\n",
    "        all_midis.append(midi)\n",
    "all_midis"
   ],
   "metadata": {
    "collapsed": false,
    "pycharm": {
     "name": "#%%\n"
    }
   }
  },
  {
   "cell_type": "code",
   "execution_count": 26,
   "outputs": [
    {
     "name": "stdout",
     "output_type": "stream",
     "text": [
      "Total notes in all the Bach midis in the dataset: 1263\n"
     ]
    }
   ],
   "source": [
    "#Helping function\n",
    "def extract_notes(file):\n",
    "    notes = []\n",
    "    pick = None\n",
    "    for j in file:\n",
    "        songs = instrument.partitionByInstrument(j)\n",
    "        for part in songs.parts:\n",
    "            pick = part.recurse()\n",
    "            for element in pick:\n",
    "                if isinstance(element, note.Note):\n",
    "                    notes.append(str(element.pitch))\n",
    "                elif isinstance(element, chord.Chord):\n",
    "                    notes.append(\".\".join(str(n) for n in element.normalOrder))\n",
    "\n",
    "    return notes\n",
    "\n",
    "debussy = extract_notes(all_midis)\n",
    "print(\"Total notes in all the {0} midis in the dataset:\".format(pianist), len(debussy))"
   ],
   "metadata": {
    "collapsed": false,
    "pycharm": {
     "name": "#%%\n"
    }
   }
  },
  {
   "cell_type": "code",
   "execution_count": 27,
   "outputs": [
    {
     "name": "stdout",
     "output_type": "stream",
     "text": [
      "First fifty values in the Bach: ['C4', 'E4', 'G4', 'C5', 'E5', 'G4', 'C5', 'E5', 'C4', 'E4', 'G4', 'C5', 'E5', 'G4', 'C5', 'E5', 'C4', 'D4', 'A4', 'D5', 'F5', 'A4', 'D5', 'F5', 'C4', 'D4', 'A4', 'D5', 'F5', 'A4', 'D5', 'F5', 'B3', 'D4', 'G4', 'D5', 'F5', 'G4', 'D5', 'F5', 'B3', 'D4', 'G4', 'D5', 'F5', 'G4', 'D5', 'F5', 'C4', 'E4']\n",
      "1263\n"
     ]
    }
   ],
   "source": [
    "print(\"First fifty values in the {0}:\".format(pianist), debussy[:50])\n",
    "print(len(debussy))"
   ],
   "metadata": {
    "collapsed": false,
    "pycharm": {
     "name": "#%%\n"
    }
   }
  },
  {
   "cell_type": "code",
   "execution_count": 28,
   "outputs": [],
   "source": [
    "# def show(music):\n",
    "# display(Image(str(music.write(\"lily.png\"))))\n",
    "def chords_n_notes(Snippet):\n",
    "    Melody = []\n",
    "    offset = 0  #Incremental\n",
    "    for i in Snippet:\n",
    "        #If it is chord\n",
    "        if (\".\" in i or i.isdigit()):\n",
    "            chord_notes = i.split(\".\")  #Seperating the notes in chord\n",
    "            notes = []\n",
    "            for j in chord_notes:\n",
    "                inst_note = int(j)\n",
    "                note_snip = note.Note(inst_note)\n",
    "                notes.append(note_snip)\n",
    "                chord_snip = chord.Chord(notes)\n",
    "                chord_snip.offset = offset\n",
    "                Melody.append(chord_snip)\n",
    "        # pattern is a note\n",
    "        else:\n",
    "            note_snip = note.Note(i)\n",
    "            note_snip.offset = offset\n",
    "            Melody.append(note_snip)\n",
    "        # increase offset each iteration so that notes do not stack\n",
    "        offset += 1\n",
    "    Melody_midi = stream.Stream(Melody)\n",
    "    return Melody_midi\n",
    "\n",
    "\n",
    "Melody_Snippet = chords_n_notes(debussy[:100])\n",
    "# show(Melody_Snippet)"
   ],
   "metadata": {
    "collapsed": false,
    "pycharm": {
     "name": "#%%\n"
    }
   }
  },
  {
   "cell_type": "code",
   "execution_count": 29,
   "outputs": [
    {
     "name": "stdout",
     "output_type": "stream",
     "text": [
      "Sample Audio From Data\n"
     ]
    }
   ],
   "source": [
    "#to play audio or corpus\n",
    "print(\"Sample Audio From Data\")\n",
    "# IPython.display.Audio()"
   ],
   "metadata": {
    "collapsed": false,
    "pycharm": {
     "name": "#%%\n"
    }
   }
  },
  {
   "cell_type": "code",
   "execution_count": 30,
   "outputs": [
    {
     "name": "stdout",
     "output_type": "stream",
     "text": [
      "Total unique notes in the Bach: 54\n"
     ]
    }
   ],
   "source": [
    "#Creating a count dictionary\n",
    "debussy_num = Counter(debussy)\n",
    "print(\"Total unique notes in the {0}:\".format(pianist), len(debussy_num))"
   ],
   "metadata": {
    "collapsed": false,
    "pycharm": {
     "name": "#%%\n"
    }
   }
  },
  {
   "cell_type": "code",
   "execution_count": 31,
   "outputs": [
    {
     "name": "stdout",
     "output_type": "stream",
     "text": [
      "Average recurrenc for a note in Bach: 23.38888888888889\n",
      "Most frequent note in Bach appeared: 104 times\n",
      "Least frequent note in Bach appeared: 1 time\n"
     ]
    }
   ],
   "source": [
    "Notes = list(debussy_num.keys())\n",
    "Recurrence = list(debussy_num.values())\n",
    "#Average recurrenc for a note in Corpus\n",
    "def Average(lst):\n",
    "    return sum(lst) / len(lst)\n",
    "\n",
    "\n",
    "print(\"Average recurrenc for a note in {0}:\".format(pianist), Average(Recurrence))\n",
    "print(\"Most frequent note in {0} appeared:\".format(pianist), max(Recurrence), \"times\")\n",
    "print(\"Least frequent note in {0} appeared:\".format(pianist), min(Recurrence), \"time\")"
   ],
   "metadata": {
    "collapsed": false,
    "pycharm": {
     "name": "#%%\n"
    }
   }
  },
  {
   "cell_type": "code",
   "execution_count": 32,
   "outputs": [
    {
     "data": {
      "text/plain": "<Figure size 1296x216 with 1 Axes>",
      "image/png": "[encoded data removed]"
     },
     "metadata": {
      "image/png": {
       "width": 1052,
       "height": 222
      }
     },
     "output_type": "display_data"
    }
   ],
   "source": [
    "# Plotting the distribution of Notes\n",
    "plt.figure(figsize=(18, 3), facecolor=\"#97BACB\")\n",
    "bins = np.arange(0, (max(Recurrence)), 50)\n",
    "plt.hist(Recurrence, bins=bins, color=\"#97BACB\")\n",
    "plt.axvline(x=100, color=\"#DBACC1\")\n",
    "plt.title(\"Frequency Distribution Of Notes In The {0}\".format(pianist))\n",
    "plt.xlabel(\"Frequency Of Chords in {0}\".format(pianist))\n",
    "plt.ylabel(\"Number Of Chords\")\n",
    "plt.show()"
   ],
   "metadata": {
    "collapsed": false,
    "pycharm": {
     "name": "#%%\n"
    }
   }
  },
  {
   "cell_type": "code",
   "execution_count": 33,
   "outputs": [
    {
     "name": "stdout",
     "output_type": "stream",
     "text": [
      "Total number of notes that occur less than 100 times: 53\n"
     ]
    }
   ],
   "source": [
    "#Getting a list of rare chords\n",
    "rare_note = []\n",
    "for index, (key, value) in enumerate(debussy_num.items()):\n",
    "    if value < 100:\n",
    "        m = key\n",
    "        rare_note.append(m)\n",
    "\n",
    "print(\"Total number of notes that occur less than 100 times:\", len(rare_note))"
   ],
   "metadata": {
    "collapsed": false,
    "pycharm": {
     "name": "#%%\n"
    }
   }
  },
  {
   "cell_type": "code",
   "execution_count": 34,
   "outputs": [
    {
     "name": "stdout",
     "output_type": "stream",
     "text": [
      "Length of Bach after elemination the rare notes: 666\n"
     ]
    }
   ],
   "source": [
    "#Eleminating the rare notes\n",
    "for element in debussy:\n",
    "    if element in rare_note:\n",
    "        debussy.remove(element)\n",
    "print(\"Length of {0} after elemination the rare notes:\".format(pianist), len(debussy))"
   ],
   "metadata": {
    "collapsed": false,
    "pycharm": {
     "name": "#%%\n"
    }
   }
  },
  {
   "cell_type": "markdown",
   "source": [
    "## Data processing\n"
   ],
   "metadata": {
    "collapsed": false
   }
  },
  {
   "cell_type": "markdown",
   "source": [],
   "metadata": {
    "collapsed": false
   }
  },
  {
   "cell_type": "code",
   "execution_count": 35,
   "outputs": [
    {
     "name": "stdout",
     "output_type": "stream",
     "text": [
      "Total number of characters: 666\n",
      "Number of unique characters: 45\n"
     ]
    }
   ],
   "source": [
    "symb = sorted(list(set(debussy)))\n",
    "\n",
    "L_corpus = len(debussy)  #length of corpus\n",
    "L_symb = len(symb)  #length of total unique characters\n",
    "\n",
    "#Building dictionary to access the vocabulary from indices and vice versa\n",
    "mapping = dict((c, i) for i, c in enumerate(symb))\n",
    "reverse_mapping = dict((i, c) for i, c in enumerate(symb))\n",
    "print(\"Total number of characters:\", L_corpus)\n",
    "print(\"Number of unique characters:\", L_symb)\n"
   ],
   "metadata": {
    "collapsed": false,
    "pycharm": {
     "name": "#%%\n"
    }
   }
  },
  {
   "cell_type": "code",
   "execution_count": 71,
   "outputs": [
    {
     "name": "stdout",
     "output_type": "stream",
     "text": [
      "Total number of sequences in the Bach: 566\n"
     ]
    }
   ],
   "source": [
    "length = 100\n",
    "features = []\n",
    "targets = []\n",
    "for i in range(0, L_corpus - length, 1):\n",
    "    feature = debussy[i:i + length]\n",
    "    target = debussy[i + length]\n",
    "    # features.append(feature)\n",
    "    # targets.append(target)\n",
    "    features.append([mapping[j] for j in feature])\n",
    "    targets.append(mapping[target])\n",
    "\n",
    "L_datapoints = len(targets)\n",
    "print(\"Total number of sequences in the {0}:\".format(pianist), L_datapoints)"
   ],
   "metadata": {
    "collapsed": false,
    "pycharm": {
     "name": "#%%\n"
    }
   }
  },
  {
   "cell_type": "code",
   "execution_count": 37,
   "outputs": [],
   "source": [
    "# reshape X and normalize\n",
    "# X = (np.reshape(features, (L_datapoints, length, 1))) / float(L_symb)\n",
    "# X = (np.reshape(features, (L_datapoints, length)))/ float(L_symb)\n",
    "# one hot encode the output variable\n",
    "# y = tensorflow.keras.utils.to_categorical(targets)"
   ],
   "metadata": {
    "collapsed": false,
    "pycharm": {
     "name": "#%%\n"
    }
   }
  },
  {
   "cell_type": "code",
   "execution_count": 38,
   "outputs": [],
   "source": [
    "#Taking out a subset of data to be used as seed\n",
    "# X_train, X_seed, y_train, y_seed = train_test_split(X, y, test_size=0.2, random_state=42)\n",
    "# X_train, X_seed, y_train, y_seed = train_test_split(X, np.array(targets), test_size=0.2, random_state=42)"
   ],
   "metadata": {
    "collapsed": false,
    "pycharm": {
     "name": "#%%\n"
    }
   }
  },
  {
   "cell_type": "code",
   "execution_count": 72,
   "outputs": [
    {
     "name": "stdout",
     "output_type": "stream",
     "text": [
      "100\n",
      "567\n"
     ]
    }
   ],
   "source": [
    "data = pd.DataFrame(debussy, columns=[\"chords\"])\n",
    "n = length\n",
    "print(n)\n",
    "chords = data['chords'].values\n",
    "ngrams = zip(*[chords[i:] for i in range(n)])\n",
    "bigrams = [\" \".join(ngram) for ngram in ngrams]\n",
    "print(len(bigrams))\n",
    "# print(bigrams[:50])"
   ],
   "metadata": {
    "collapsed": false,
    "pycharm": {
     "name": "#%%\n"
    }
   }
  },
  {
   "cell_type": "markdown",
   "source": [
    "## Test: try to predict next state with Markov chain"
   ],
   "metadata": {
    "collapsed": false
   }
  },
  {
   "cell_type": "code",
   "execution_count": 84,
   "outputs": [],
   "source": [
    "def predict_next_state(chord:str, data:list=bigrams):\n",
    "    \"\"\"Predict next chord based on current state.\"\"\"\n",
    "    # create list of bigrams which stats with current chord\n",
    "    bigrams_with_current_chord = [bigram for bigram in bigrams if bigram.split(' ')[0]==chord]\n",
    "    print(bigrams_with_current_chord)\n",
    "    # count appearance of each bigram\n",
    "    count_appearance = dict(Counter(bigrams_with_current_chord))\n",
    "    # convert apperance into probabilities\n",
    "    for ngram in count_appearance.keys():\n",
    "        count_appearance[ngram] = count_appearance[ngram]/len(bigrams_with_current_chord)\n",
    "    # create list of possible options for the next chord\n",
    "    options = [key.split(' ')[1] for key in count_appearance.keys()]\n",
    "    # create  list of probability distribution\n",
    "    probabilities = list(count_appearance.values())\n",
    "    print(probabilities)\n",
    "    # return np.random.choice(options, p=probabilities)\n",
    "    if options:\n",
    "        print(\"yes\")\n",
    "        return np.random.choice(options, p=probabilities)\n",
    "    else:\n",
    "        print(\"no\")\n",
    "        return np.random.choice(bigrams)"
   ],
   "metadata": {
    "collapsed": false,
    "pycharm": {
     "name": "#%%\n"
    }
   }
  },
  {
   "cell_type": "code",
   "execution_count": 60,
   "outputs": [],
   "source": [
    "def generate_sequence(chord:str=None, data:list=bigrams, length:int=40):\n",
    "    \"\"\"Generate sequence of defined length.\"\"\"\n",
    "    # create list to store future chords\n",
    "    chords = []\n",
    "    for n in range(length):\n",
    "        # append next chord for the list\n",
    "        chords.append(predict_next_state(chord, bigrams))\n",
    "        # use last chord in sequence to predict next chord\n",
    "        chord = chords[-1]\n",
    "    return chords"
   ],
   "metadata": {
    "collapsed": false,
    "pycharm": {
     "name": "#%%\n"
    }
   }
  },
  {
   "cell_type": "markdown",
   "source": [
    "## Generate music"
   ],
   "metadata": {
    "collapsed": false,
    "pycharm": {
     "name": "#%% md\n"
    }
   }
  },
  {
   "cell_type": "code",
   "execution_count": 88,
   "outputs": [
    {
     "name": "stdout",
     "output_type": "stream",
     "text": [
      "<class 'str'>\n",
      "F#4 G4 E4 G3 D4 A4 E4 C4 G3 D4 B4 C4 A3 B3 G3 C5 D4 A3 F#3 G3 A3 D3 0.2 F#3 B4 G3 G3 A4 E5 G4 B3 F4 A4 E4 C4 G4 D5 F4 D4 A4 D5 G4 E4 G3 E5 D5 C5 4.5 B4 D4 C5 A4 D5 G4 E5 F5 C5 C4 A3 G5 A5 F4 G5 F5 D5 B3 E5 G4 D5 G4 F4 C4 C5 E4 B4 G4 D4 F3 A3 G3 F3 C5 E4 E3 D3 D5 F4 D4 C3 B2 G4 C3 D3 C5 E4 G3 E3 F3 D4 G3\n"
     ]
    }
   ],
   "source": [
    "# example\n",
    "seed = bigrams[np.random.randint(0, len(bigrams)-1)]\n",
    "print(type(seed))\n",
    "print(seed)"
   ],
   "metadata": {
    "collapsed": false,
    "pycharm": {
     "name": "#%%\n"
    }
   }
  },
  {
   "cell_type": "code",
   "execution_count": 92,
   "outputs": [
    {
     "name": "stdout",
     "output_type": "stream",
     "text": [
      "['G3 C4 G2 G3 C4 G3 C4 G2 G3 C4 G3 C4 G2 G3 C4 G3 C4 G2 G3 B3 G3 B3 G2 G3 B3 G3 B3 C2 G3 B-3 G3 B-3 C2 G3 B-3 G3 B-3 0 C4 C4 C4 0 C4 E4 E4 E4 C4 C4 B3 E4 G3 E4 A3 B3 C4 C4 B3 G4 E4 C5 G4 A3 E4 C5 E4 C4 G4 B3 E4 C4 G4 D4 E4 F4 B-3 G4 C4 A3 G4 F4 D4 C5 G3 G4 F4 C4 A3 E4 F4 A3 D4 B3 G3 C4 G4 D4 A3 G3 G4 G3', 'G3 C4 G3 C4 G2 G3 C4 G3 C4 G2 G3 C4 G3 C4 G2 G3 B3 G3 B3 G2 G3 B3 G3 B3 C2 G3 B-3 G3 B-3 C2 G3 B-3 G3 B-3 0 C4 C4 C4 0 C4 E4 E4 E4 C4 C4 B3 E4 G3 E4 A3 B3 C4 C4 B3 G4 E4 C5 G4 A3 E4 C5 E4 C4 G4 B3 E4 C4 G4 D4 E4 F4 B-3 G4 C4 A3 G4 F4 D4 C5 G3 G4 F4 C4 A3 E4 F4 A3 D4 B3 G3 C4 G4 D4 A3 G3 G4 G3 F3 C5 D5', 'G3 C4 G2 G3 C4 G3 C4 G2 G3 C4 G3 C4 G2 G3 B3 G3 B3 G2 G3 B3 G3 B3 C2 G3 B-3 G3 B-3 C2 G3 B-3 G3 B-3 0 C4 C4 C4 0 C4 E4 E4 E4 C4 C4 B3 E4 G3 E4 A3 B3 C4 C4 B3 G4 E4 C5 G4 A3 E4 C5 E4 C4 G4 B3 E4 C4 G4 D4 E4 F4 B-3 G4 C4 A3 G4 F4 D4 C5 G3 G4 F4 C4 A3 E4 F4 A3 D4 B3 G3 C4 G4 D4 A3 G3 G4 G3 F3 C5 D5 G3 A3', 'G3 C4 G3 C4 G2 G3 C4 G3 C4 G2 G3 B3 G3 B3 G2 G3 B3 G3 B3 C2 G3 B-3 G3 B-3 C2 G3 B-3 G3 B-3 0 C4 C4 C4 0 C4 E4 E4 E4 C4 C4 B3 E4 G3 E4 A3 B3 C4 C4 B3 G4 E4 C5 G4 A3 E4 C5 E4 C4 G4 B3 E4 C4 G4 D4 E4 F4 B-3 G4 C4 A3 G4 F4 D4 C5 G3 G4 F4 C4 A3 E4 F4 A3 D4 B3 G3 C4 G4 D4 A3 G3 G4 G3 F3 C5 D5 G3 A3 B3 5.7 C4', 'G3 C4 G2 G3 C4 G3 C4 G2 G3 B3 G3 B3 G2 G3 B3 G3 B3 C2 G3 B-3 G3 B-3 C2 G3 B-3 G3 B-3 0 C4 C4 C4 0 C4 E4 E4 E4 C4 C4 B3 E4 G3 E4 A3 B3 C4 C4 B3 G4 E4 C5 G4 A3 E4 C5 E4 C4 G4 B3 E4 C4 G4 D4 E4 F4 B-3 G4 C4 A3 G4 F4 D4 C5 G3 G4 F4 C4 A3 E4 F4 A3 D4 B3 G3 C4 G4 D4 A3 G3 G4 G3 F3 C5 D5 G3 A3 B3 5.7 C4 A3 0.2', 'G3 C4 G3 C4 G2 G3 B3 G3 B3 G2 G3 B3 G3 B3 C2 G3 B-3 G3 B-3 C2 G3 B-3 G3 B-3 0 C4 C4 C4 0 C4 E4 E4 E4 C4 C4 B3 E4 G3 E4 A3 B3 C4 C4 B3 G4 E4 C5 G4 A3 E4 C5 E4 C4 G4 B3 E4 C4 G4 D4 E4 F4 B-3 G4 C4 A3 G4 F4 D4 C5 G3 G4 F4 C4 A3 E4 F4 A3 D4 B3 G3 C4 G4 D4 A3 G3 G4 G3 F3 C5 D5 G3 A3 B3 5.7 C4 A3 0.2 D5 B3 G3', 'G3 C4 G2 G3 B3 G3 B3 G2 G3 B3 G3 B3 C2 G3 B-3 G3 B-3 C2 G3 B-3 G3 B-3 0 C4 C4 C4 0 C4 E4 E4 E4 C4 C4 B3 E4 G3 E4 A3 B3 C4 C4 B3 G4 E4 C5 G4 A3 E4 C5 E4 C4 G4 B3 E4 C4 G4 D4 E4 F4 B-3 G4 C4 A3 G4 F4 D4 C5 G3 G4 F4 C4 A3 E4 F4 A3 D4 B3 G3 C4 G4 D4 A3 G3 G4 G3 F3 C5 D5 G3 A3 B3 5.7 C4 A3 0.2 D5 B3 G3 A3 E4', 'G3 B3 G3 B3 G2 G3 B3 G3 B3 C2 G3 B-3 G3 B-3 C2 G3 B-3 G3 B-3 0 C4 C4 C4 0 C4 E4 E4 E4 C4 C4 B3 E4 G3 E4 A3 B3 C4 C4 B3 G4 E4 C5 G4 A3 E4 C5 E4 C4 G4 B3 E4 C4 G4 D4 E4 F4 B-3 G4 C4 A3 G4 F4 D4 C5 G3 G4 F4 C4 A3 E4 F4 A3 D4 B3 G3 C4 G4 D4 A3 G3 G4 G3 F3 C5 D5 G3 A3 B3 5.7 C4 A3 0.2 D5 B3 G3 A3 E4 B-3 G3 A3', 'G3 B3 G2 G3 B3 G3 B3 C2 G3 B-3 G3 B-3 C2 G3 B-3 G3 B-3 0 C4 C4 C4 0 C4 E4 E4 E4 C4 C4 B3 E4 G3 E4 A3 B3 C4 C4 B3 G4 E4 C5 G4 A3 E4 C5 E4 C4 G4 B3 E4 C4 G4 D4 E4 F4 B-3 G4 C4 A3 G4 F4 D4 C5 G3 G4 F4 C4 A3 E4 F4 A3 D4 B3 G3 C4 G4 D4 A3 G3 G4 G3 F3 C5 D5 G3 A3 B3 5.7 C4 A3 0.2 D5 B3 G3 A3 E4 B-3 G3 A3 C#3 D4', 'G3 B3 G3 B3 C2 G3 B-3 G3 B-3 C2 G3 B-3 G3 B-3 0 C4 C4 C4 0 C4 E4 E4 E4 C4 C4 B3 E4 G3 E4 A3 B3 C4 C4 B3 G4 E4 C5 G4 A3 E4 C5 E4 C4 G4 B3 E4 C4 G4 D4 E4 F4 B-3 G4 C4 A3 G4 F4 D4 C5 G3 G4 F4 C4 A3 E4 F4 A3 D4 B3 G3 C4 G4 D4 A3 G3 G4 G3 F3 C5 D5 G3 A3 B3 5.7 C4 A3 0.2 D5 B3 G3 A3 E4 B-3 G3 A3 C#3 D4 A3 E4 D4', 'G3 B3 C2 G3 B-3 G3 B-3 C2 G3 B-3 G3 B-3 0 C4 C4 C4 0 C4 E4 E4 E4 C4 C4 B3 E4 G3 E4 A3 B3 C4 C4 B3 G4 E4 C5 G4 A3 E4 C5 E4 C4 G4 B3 E4 C4 G4 D4 E4 F4 B-3 G4 C4 A3 G4 F4 D4 C5 G3 G4 F4 C4 A3 E4 F4 A3 D4 B3 G3 C4 G4 D4 A3 G3 G4 G3 F3 C5 D5 G3 A3 B3 5.7 C4 A3 0.2 D5 B3 G3 A3 E4 B-3 G3 A3 C#3 D4 A3 E4 D4 C4 B3', 'G3 B-3 G3 B-3 C2 G3 B-3 G3 B-3 0 C4 C4 C4 0 C4 E4 E4 E4 C4 C4 B3 E4 G3 E4 A3 B3 C4 C4 B3 G4 E4 C5 G4 A3 E4 C5 E4 C4 G4 B3 E4 C4 G4 D4 E4 F4 B-3 G4 C4 A3 G4 F4 D4 C5 G3 G4 F4 C4 A3 E4 F4 A3 D4 B3 G3 C4 G4 D4 A3 G3 G4 G3 F3 C5 D5 G3 A3 B3 5.7 C4 A3 0.2 D5 B3 G3 A3 E4 B-3 G3 A3 C#3 D4 A3 E4 D4 C4 B3 E4 E4 A3', 'G3 B-3 C2 G3 B-3 G3 B-3 0 C4 C4 C4 0 C4 E4 E4 E4 C4 C4 B3 E4 G3 E4 A3 B3 C4 C4 B3 G4 E4 C5 G4 A3 E4 C5 E4 C4 G4 B3 E4 C4 G4 D4 E4 F4 B-3 G4 C4 A3 G4 F4 D4 C5 G3 G4 F4 C4 A3 E4 F4 A3 D4 B3 G3 C4 G4 D4 A3 G3 G4 G3 F3 C5 D5 G3 A3 B3 5.7 C4 A3 0.2 D5 B3 G3 A3 E4 B-3 G3 A3 C#3 D4 A3 E4 D4 C4 B3 E4 E4 A3 B3 G4', 'G3 B-3 G3 B-3 0 C4 C4 C4 0 C4 E4 E4 E4 C4 C4 B3 E4 G3 E4 A3 B3 C4 C4 B3 G4 E4 C5 G4 A3 E4 C5 E4 C4 G4 B3 E4 C4 G4 D4 E4 F4 B-3 G4 C4 A3 G4 F4 D4 C5 G3 G4 F4 C4 A3 E4 F4 A3 D4 B3 G3 C4 G4 D4 A3 G3 G4 G3 F3 C5 D5 G3 A3 B3 5.7 C4 A3 0.2 D5 B3 G3 A3 E4 B-3 G3 A3 C#3 D4 A3 E4 D4 C4 B3 E4 E4 A3 B3 G4 C4 D4 D4', 'G3 B-3 0 C4 C4 C4 0 C4 E4 E4 E4 C4 C4 B3 E4 G3 E4 A3 B3 C4 C4 B3 G4 E4 C5 G4 A3 E4 C5 E4 C4 G4 B3 E4 C4 G4 D4 E4 F4 B-3 G4 C4 A3 G4 F4 D4 C5 G3 G4 F4 C4 A3 E4 F4 A3 D4 B3 G3 C4 G4 D4 A3 G3 G4 G3 F3 C5 D5 G3 A3 B3 5.7 C4 A3 0.2 D5 B3 G3 A3 E4 B-3 G3 A3 C#3 D4 A3 E4 D4 C4 B3 E4 E4 A3 B3 G4 C4 D4 D4 C4 B3', 'G3 E4 A3 B3 C4 C4 B3 G4 E4 C5 G4 A3 E4 C5 E4 C4 G4 B3 E4 C4 G4 D4 E4 F4 B-3 G4 C4 A3 G4 F4 D4 C5 G3 G4 F4 C4 A3 E4 F4 A3 D4 B3 G3 C4 G4 D4 A3 G3 G4 G3 F3 C5 D5 G3 A3 B3 5.7 C4 A3 0.2 D5 B3 G3 A3 E4 B-3 G3 A3 C#3 D4 A3 E4 D4 C4 B3 E4 E4 A3 B3 G4 C4 D4 D4 C4 B3 A3 G3 C5 C4 B3 C4 0.2 A3 E4 D4 C4 B3 C4 A3 D5', 'G3 G4 F4 C4 A3 E4 F4 A3 D4 B3 G3 C4 G4 D4 A3 G3 G4 G3 F3 C5 D5 G3 A3 B3 5.7 C4 A3 0.2 D5 B3 G3 A3 E4 B-3 G3 A3 C#3 D4 A3 E4 D4 C4 B3 E4 E4 A3 B3 G4 C4 D4 D4 C4 B3 A3 G3 C5 C4 B3 C4 0.2 A3 E4 D4 C4 B3 C4 A3 D5 B3 C4 D4 C4 D5 B3 C5 A3 G3 E5 G2 D5 C5 D5 C5 D4 E4 C5 F#4 0.2 G4 B2 F#4 C5 E4 E5 D5 B2 B4 C5 B4 G4', 'G3 C4 G4 D4 A3 G3 G4 G3 F3 C5 D5 G3 A3 B3 5.7 C4 A3 0.2 D5 B3 G3 A3 E4 B-3 G3 A3 C#3 D4 A3 E4 D4 C4 B3 E4 E4 A3 B3 G4 C4 D4 D4 C4 B3 A3 G3 C5 C4 B3 C4 0.2 A3 E4 D4 C4 B3 C4 A3 D5 B3 C4 D4 C4 D5 B3 C5 A3 G3 E5 G2 D5 C5 D5 C5 D4 E4 C5 F#4 0.2 G4 B2 F#4 C5 E4 E5 D5 B2 B4 C5 B4 G4 F#4 F4 G#3 B4 C5 E4 A3 F#4 D4 F3', 'G3 G4 G3 F3 C5 D5 G3 A3 B3 5.7 C4 A3 0.2 D5 B3 G3 A3 E4 B-3 G3 A3 C#3 D4 A3 E4 D4 C4 B3 E4 E4 A3 B3 G4 C4 D4 D4 C4 B3 A3 G3 C5 C4 B3 C4 0.2 A3 E4 D4 C4 B3 C4 A3 D5 B3 C4 D4 C4 D5 B3 C5 A3 G3 E5 G2 D5 C5 D5 C5 D4 E4 C5 F#4 0.2 G4 B2 F#4 C5 E4 E5 D5 B2 B4 C5 B4 G4 F#4 F4 G#3 B4 C5 E4 A3 F#4 D4 F3 B4 G#3 E4 F#4 C4', 'G3 F3 C5 D5 G3 A3 B3 5.7 C4 A3 0.2 D5 B3 G3 A3 E4 B-3 G3 A3 C#3 D4 A3 E4 D4 C4 B3 E4 E4 A3 B3 G4 C4 D4 D4 C4 B3 A3 G3 C5 C4 B3 C4 0.2 A3 E4 D4 C4 B3 C4 A3 D5 B3 C4 D4 C4 D5 B3 C5 A3 G3 E5 G2 D5 C5 D5 C5 D4 E4 C5 F#4 0.2 G4 B2 F#4 C5 E4 E5 D5 B2 B4 C5 B4 G4 F#4 F4 G#3 B4 C5 E4 A3 F#4 D4 F3 B4 G#3 E4 F#4 C4 B4 C5', 'G3 A3 B3 5.7 C4 A3 0.2 D5 B3 G3 A3 E4 B-3 G3 A3 C#3 D4 A3 E4 D4 C4 B3 E4 E4 A3 B3 G4 C4 D4 D4 C4 B3 A3 G3 C5 C4 B3 C4 0.2 A3 E4 D4 C4 B3 C4 A3 D5 B3 C4 D4 C4 D5 B3 C5 A3 G3 E5 G2 D5 C5 D5 C5 D4 E4 C5 F#4 0.2 G4 B2 F#4 C5 E4 E5 D5 B2 B4 C5 B4 G4 F#4 F4 G#3 B4 C5 E4 A3 F#4 D4 F3 B4 G#3 E4 F#4 C4 B4 C5 G#4 F5 B3 D3', 'G3 A3 E4 B-3 G3 A3 C#3 D4 A3 E4 D4 C4 B3 E4 E4 A3 B3 G4 C4 D4 D4 C4 B3 A3 G3 C5 C4 B3 C4 0.2 A3 E4 D4 C4 B3 C4 A3 D5 B3 C4 D4 C4 D5 B3 C5 A3 G3 E5 G2 D5 C5 D5 C5 D4 E4 C5 F#4 0.2 G4 B2 F#4 C5 E4 E5 D5 B2 B4 C5 B4 G4 F#4 F4 G#3 B4 C5 E4 A3 F#4 D4 F3 B4 G#3 E4 F#4 C4 B4 C5 G#4 F5 B3 D3 B4 E5 G#4 F#4 C4 D5 G#4 B3 A3', 'G3 A3 C#3 D4 A3 E4 D4 C4 B3 E4 E4 A3 B3 G4 C4 D4 D4 C4 B3 A3 G3 C5 C4 B3 C4 0.2 A3 E4 D4 C4 B3 C4 A3 D5 B3 C4 D4 C4 D5 B3 C5 A3 G3 E5 G2 D5 C5 D5 C5 D4 E4 C5 F#4 0.2 G4 B2 F#4 C5 E4 E5 D5 B2 B4 C5 B4 G4 F#4 F4 G#3 B4 C5 E4 A3 F#4 D4 F3 B4 G#3 E4 F#4 C4 B4 C5 G#4 F5 B3 D3 B4 E5 G#4 F#4 C4 D5 G#4 B3 A3 B4 G#3 F3 C5', 'G3 C5 C4 B3 C4 0.2 A3 E4 D4 C4 B3 C4 A3 D5 B3 C4 D4 C4 D5 B3 C5 A3 G3 E5 G2 D5 C5 D5 C5 D4 E4 C5 F#4 0.2 G4 B2 F#4 C5 E4 E5 D5 B2 B4 C5 B4 G4 F#4 F4 G#3 B4 C5 E4 A3 F#4 D4 F3 B4 G#3 E4 F#4 C4 B4 C5 G#4 F5 B3 D3 B4 E5 G#4 F#4 C4 D5 G#4 B3 A3 B4 G#3 F3 C5 A3 B4 D3 B4 G#3 A4 A3 C4 D4 E4 G3 F4 A3 B3 5.7 E4 C4 A4 0.2 D4', 'G3 E5 G2 D5 C5 D5 C5 D4 E4 C5 F#4 0.2 G4 B2 F#4 C5 E4 E5 D5 B2 B4 C5 B4 G4 F#4 F4 G#3 B4 C5 E4 A3 F#4 D4 F3 B4 G#3 E4 F#4 C4 B4 C5 G#4 F5 B3 D3 B4 E5 G#4 F#4 C4 D5 G#4 B3 A3 B4 G#3 F3 C5 A3 B4 D3 B4 G#3 A4 A3 C4 D4 E4 G3 F4 A3 B3 5.7 E4 C4 A4 0.2 D4 B3 G4 E4 G2 A3 A2 A4 G4 D4 B2 F4 E4 C3 G4 E4 G3 0.2 A4 F#4 D4 B2 B4', 'G3 F4 A3 B3 5.7 E4 C4 A4 0.2 D4 B3 G4 E4 G2 A3 A2 A4 G4 D4 B2 F4 E4 C3 G4 E4 G3 0.2 A4 F#4 D4 B2 B4 G4 E3 C5 G4 C4 A2 F#4 A3 D3 0.2 B4 G#4 E4 E3 C5 A4 D3 C3 D5 D4 B2 E5 G4 F5 A4 A2 B4 G2 5.7 E5 C5 A2 A5 A3 0.2 D5 B4 B3 G3 E5 E3 A4 D4 D3 A5 D5 F5 E5 C4 E3 E5 A5 D5 F4 F3 C5 D5 B4 B3 G3 B-5 G5 E4 A5 C#5 F3 F4 G5', 'G3 0.2 A4 F#4 D4 B2 B4 G4 E3 C5 G4 C4 A2 F#4 A3 D3 0.2 B4 G#4 E4 E3 C5 A4 D3 C3 D5 D4 B2 E5 G4 F5 A4 A2 B4 G2 5.7 E5 C5 A2 A5 A3 0.2 D5 B4 B3 G3 E5 E3 A4 D4 D3 A5 D5 F5 E5 C4 E3 E5 A5 D5 F4 F3 C5 D5 B4 B3 G3 B-5 G5 E4 A5 C#5 F3 F4 G5 D5 E4 B-3 F5 D4 G5 E5 E3 F5 G5 C#5 A3 E5 F5 D5 G5 B-3 E5 A3 5.7 G3 A5 A4 F3 C#5', 'G3 E5 E3 A4 D4 D3 A5 D5 F5 E5 C4 E3 E5 A5 D5 F4 F3 C5 D5 B4 B3 G3 B-5 G5 E4 A5 C#5 F3 F4 G5 D5 E4 B-3 F5 D4 G5 E5 E3 F5 G5 C#5 A3 E5 F5 D5 G5 B-3 E5 A3 5.7 G3 A5 A4 F3 C#5 E3 D5 A3 F3 G5 D3 B3 G3 E5 E4 C#4 A3 D5 D5 F#4 D4 D3 G4 2.4 A4 C4 F#4 9.11 G4 B3 D3 E3 C5 E4 D3 C3 F#4 B2 F#4 A2 B4 E4 G2 D4 F#2 C4 C5 B4 E3 A4', 'G3 B-5 G5 E4 A5 C#5 F3 F4 G5 D5 E4 B-3 F5 D4 G5 E5 E3 F5 G5 C#5 A3 E5 F5 D5 G5 B-3 E5 A3 5.7 G3 A5 A4 F3 C#5 E3 D5 A3 F3 G5 D3 B3 G3 E5 E4 C#4 A3 D5 D5 F#4 D4 D3 G4 2.4 A4 C4 F#4 9.11 G4 B3 D3 E3 C5 E4 D3 C3 F#4 B2 F#4 A2 B4 E4 G2 D4 F#2 C4 C5 B4 E3 A4 G4 F#4 G4 E4 G3 D4 A4 E4 C4 G3 D4 B4 C4 A3 B3 G3 C5 D4 A3 F#3 G3', 'G3 A5 A4 F3 C#5 E3 D5 A3 F3 G5 D3 B3 G3 E5 E4 C#4 A3 D5 D5 F#4 D4 D3 G4 2.4 A4 C4 F#4 9.11 G4 B3 D3 E3 C5 E4 D3 C3 F#4 B2 F#4 A2 B4 E4 G2 D4 F#2 C4 C5 B4 E3 A4 G4 F#4 G4 E4 G3 D4 A4 E4 C4 G3 D4 B4 C4 A3 B3 G3 C5 D4 A3 F#3 G3 A3 D3 0.2 F#3 B4 G3 G3 A4 E5 G4 B3 F4 A4 E4 C4 G4 D5 F4 D4 A4 D5 G4 E4 G3 E5 D5 C5 4.5 B4', 'G3 E5 E4 C#4 A3 D5 D5 F#4 D4 D3 G4 2.4 A4 C4 F#4 9.11 G4 B3 D3 E3 C5 E4 D3 C3 F#4 B2 F#4 A2 B4 E4 G2 D4 F#2 C4 C5 B4 E3 A4 G4 F#4 G4 E4 G3 D4 A4 E4 C4 G3 D4 B4 C4 A3 B3 G3 C5 D4 A3 F#3 G3 A3 D3 0.2 F#3 B4 G3 G3 A4 E5 G4 B3 F4 A4 E4 C4 G4 D5 F4 D4 A4 D5 G4 E4 G3 E5 D5 C5 4.5 B4 D4 C5 A4 D5 G4 E5 F5 C5 C4 A3 G5 A5', 'G3 D4 A4 E4 C4 G3 D4 B4 C4 A3 B3 G3 C5 D4 A3 F#3 G3 A3 D3 0.2 F#3 B4 G3 G3 A4 E5 G4 B3 F4 A4 E4 C4 G4 D5 F4 D4 A4 D5 G4 E4 G3 E5 D5 C5 4.5 B4 D4 C5 A4 D5 G4 E5 F5 C5 C4 A3 G5 A5 F4 G5 F5 D5 B3 E5 G4 D5 G4 F4 C4 C5 E4 B4 G4 D4 F3 A3 G3 F3 C5 E4 E3 D3 D5 F4 D4 C3 B2 G4 C3 D3 C5 E4 G3 E3 F3 D4 G3 B4 G2 C5', 'G3 D4 B4 C4 A3 B3 G3 C5 D4 A3 F#3 G3 A3 D3 0.2 F#3 B4 G3 G3 A4 E5 G4 B3 F4 A4 E4 C4 G4 D5 F4 D4 A4 D5 G4 E4 G3 E5 D5 C5 4.5 B4 D4 C5 A4 D5 G4 E5 F5 C5 C4 A3 G5 A5 F4 G5 F5 D5 B3 E5 G4 D5 G4 F4 C4 C5 E4 B4 G4 D4 F3 A3 G3 F3 C5 E4 E3 D3 D5 F4 D4 C3 B2 G4 C3 D3 C5 E4 G3 E3 F3 D4 G3 B4 G2 C5 E4 G3 C3 A4 C3', 'G3 C5 D4 A3 F#3 G3 A3 D3 0.2 F#3 B4 G3 G3 A4 E5 G4 B3 F4 A4 E4 C4 G4 D5 F4 D4 A4 D5 G4 E4 G3 E5 D5 C5 4.5 B4 D4 C5 A4 D5 G4 E5 F5 C5 C4 A3 G5 A5 F4 G5 F5 D5 B3 E5 G4 D5 G4 F4 C4 C5 E4 B4 G4 D4 F3 A3 G3 F3 C5 E4 E3 D3 D5 F4 D4 C3 B2 G4 C3 D3 C5 E4 G3 E3 F3 D4 G3 B4 G2 C5 E4 G3 C3 A4 C3 B4 D3 G4 E3 A4 F3', 'G3 A3 D3 0.2 F#3 B4 G3 G3 A4 E5 G4 B3 F4 A4 E4 C4 G4 D5 F4 D4 A4 D5 G4 E4 G3 E5 D5 C5 4.5 B4 D4 C5 A4 D5 G4 E5 F5 C5 C4 A3 G5 A5 F4 G5 F5 D5 B3 E5 G4 D5 G4 F4 C4 C5 E4 B4 G4 D4 F3 A3 G3 F3 C5 E4 E3 D3 D5 F4 D4 C3 B2 G4 C3 D3 C5 E4 G3 E3 F3 D4 G3 B4 G2 C5 E4 G3 C3 A4 C3 B4 D3 G4 E3 A4 F3 D5 F4 5.7 G4 E3', 'G3 G3 A4 E5 G4 B3 F4 A4 E4 C4 G4 D5 F4 D4 A4 D5 G4 E4 G3 E5 D5 C5 4.5 B4 D4 C5 A4 D5 G4 E5 F5 C5 C4 A3 G5 A5 F4 G5 F5 D5 B3 E5 G4 D5 G4 F4 C4 C5 E4 B4 G4 D4 F3 A3 G3 F3 C5 E4 E3 D3 D5 F4 D4 C3 B2 G4 C3 D3 C5 E4 G3 E3 F3 D4 G3 B4 G2 C5 E4 G3 C3 A4 C3 B4 D3 G4 E3 A4 F3 D5 F4 5.7 G4 E3 C5 A4 A3 D5 D3 C3', 'G3 A4 E5 G4 B3 F4 A4 E4 C4 G4 D5 F4 D4 A4 D5 G4 E4 G3 E5 D5 C5 4.5 B4 D4 C5 A4 D5 G4 E5 F5 C5 C4 A3 G5 A5 F4 G5 F5 D5 B3 E5 G4 D5 G4 F4 C4 C5 E4 B4 G4 D4 F3 A3 G3 F3 C5 E4 E3 D3 D5 F4 D4 C3 B2 G4 C3 D3 C5 E4 G3 E3 F3 D4 G3 B4 G2 C5 E4 G3 C3 A4 C3 B4 D3 G4 E3 A4 F3 D5 F4 5.7 G4 E3 C5 A4 A3 D5 D3 C3 E5', 'G3 E5 D5 C5 4.5 B4 D4 C5 A4 D5 G4 E5 F5 C5 C4 A3 G5 A5 F4 G5 F5 D5 B3 E5 G4 D5 G4 F4 C4 C5 E4 B4 G4 D4 F3 A3 G3 F3 C5 E4 E3 D3 D5 F4 D4 C3 B2 G4 C3 D3 C5 E4 G3 E3 F3 D4 G3 B4 G2 C5 E4 G3 C3 A4 C3 B4 D3 G4 E3 A4 F3 D5 F4 5.7 G4 E3 C5 A4 A3 D5 D3 C3 E5 G3 10.0 F5 A4 A3 D5 G3 F3 G4 E3 A5 D3 G5 C5 E3 F5 F3', 'G3 F3 C5 E4 E3 D3 D5 F4 D4 C3 B2 G4 C3 D3 C5 E4 G3 E3 F3 D4 G3 B4 G2 C5 E4 G3 C3 A4 C3 B4 D3 G4 E3 A4 F3 D5 F4 5.7 G4 E3 C5 A4 A3 D5 D3 C3 E5 G3 10.0 F5 A4 A3 D5 G3 F3 G4 E3 A5 D3 G5 C5 E3 F5 F3 E5 G3 F5 D5 A3 E5 C5 B-3 D5 G3 C5 A4 A3 C3 E3 A4 F3 G4 G3 F4 A3 G4 B3 F4 C4 E4 A3 D4 B3 7.9 B4 C5 D5 E5 F5 G4']\n",
      "[0.02564102564102564, 0.02564102564102564, 0.02564102564102564, 0.02564102564102564, 0.02564102564102564, 0.02564102564102564, 0.02564102564102564, 0.02564102564102564, 0.02564102564102564, 0.02564102564102564, 0.02564102564102564, 0.02564102564102564, 0.02564102564102564, 0.02564102564102564, 0.02564102564102564, 0.02564102564102564, 0.02564102564102564, 0.02564102564102564, 0.02564102564102564, 0.02564102564102564, 0.02564102564102564, 0.02564102564102564, 0.02564102564102564, 0.02564102564102564, 0.02564102564102564, 0.02564102564102564, 0.02564102564102564, 0.02564102564102564, 0.02564102564102564, 0.02564102564102564, 0.02564102564102564, 0.02564102564102564, 0.02564102564102564, 0.02564102564102564, 0.02564102564102564, 0.02564102564102564, 0.02564102564102564, 0.02564102564102564, 0.02564102564102564]\n",
      "yes\n"
     ]
    }
   ],
   "source": [
    "pred = predict_next_state(\"G3\")\n",
    "# Music = pred.split(\" \")"
   ],
   "metadata": {
    "collapsed": false,
    "pycharm": {
     "name": "#%%\n"
    }
   }
  },
  {
   "cell_type": "code",
   "execution_count": 51,
   "outputs": [
    {
     "name": "stdout",
     "output_type": "stream",
     "text": [
      "seed_music_mm2.mid\n"
     ]
    },
    {
     "data": {
      "text/plain": "'seed_music_mm2.mid'"
     },
     "execution_count": 51,
     "metadata": {},
     "output_type": "execute_result"
    }
   ],
   "source": [
    "# Melody = chords_n_notes(Music)\n",
    "# Melody_midi = stream.Stream(Melody)\n",
    "# filename = \"seed_music_mm2.mid\"\n",
    "# print(filename)\n",
    "# Melody.write(\"midi\", filename)"
   ],
   "metadata": {
    "collapsed": false,
    "pycharm": {
     "name": "#%%\n"
    }
   }
  }
 ],
 "metadata": {
  "kernelspec": {
   "display_name": "Python 3 (ipykernel)",
   "language": "python",
   "name": "python3"
  },
  "language_info": {
   "codemirror_mode": {
    "name": "ipython",
    "version": 3
   },
   "file_extension": ".py",
   "mimetype": "text/x-python",
   "name": "python",
   "nbconvert_exporter": "python",
   "pygments_lexer": "ipython3",
   "version": "3.8.13"
  }
 },
 "nbformat": 4,
 "nbformat_minor": 1
}