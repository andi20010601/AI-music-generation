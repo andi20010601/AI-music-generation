{
 "cells": [
  {
   "cell_type": "code",
   "execution_count": 1,
   "metadata": {
    "_kg_hide-input": true,
    "_kg_hide-output": true,
    "execution": {
     "iopub.execute_input": "2022-05-09T11:02:57.484833Z",
     "iopub.status.busy": "2022-05-09T11:02:57.483919Z",
     "iopub.status.idle": "2022-05-09T11:13:45.129719Z",
     "shell.execute_reply": "2022-05-09T11:13:45.128333Z",
     "shell.execute_reply.started": "2022-05-09T11:02:57.484701Z"
    }
   },
   "outputs": [
    {
     "name": "stdout",
     "output_type": "stream",
     "text": [
      "F:\\Jupyter\\Music\\ML\\Classical-Music-Midi\\albeniz\\alb_esp1.mid\n",
      "F:\\Jupyter\\Music\\ML\\Classical-Music-Midi\\albeniz\\alb_esp2.mid\n",
      "F:\\Jupyter\\Music\\ML\\Classical-Music-Midi\\albeniz\\alb_esp3.mid\n",
      "F:\\Jupyter\\Music\\ML\\Classical-Music-Midi\\albeniz\\alb_esp4.mid\n",
      "F:\\Jupyter\\Music\\ML\\Classical-Music-Midi\\albeniz\\alb_esp5.mid\n",
      "F:\\Jupyter\\Music\\ML\\Classical-Music-Midi\\albeniz\\alb_esp6.mid\n",
      "F:\\Jupyter\\Music\\ML\\Classical-Music-Midi\\albeniz\\alb_se1.mid\n",
      "F:\\Jupyter\\Music\\ML\\Classical-Music-Midi\\albeniz\\alb_se2.mid\n",
      "F:\\Jupyter\\Music\\ML\\Classical-Music-Midi\\albeniz\\alb_se3.mid\n",
      "F:\\Jupyter\\Music\\ML\\Classical-Music-Midi\\albeniz\\alb_se4.mid\n",
      "F:\\Jupyter\\Music\\ML\\Classical-Music-Midi\\albeniz\\alb_se5.mid\n",
      "F:\\Jupyter\\Music\\ML\\Classical-Music-Midi\\albeniz\\alb_se6.mid\n",
      "F:\\Jupyter\\Music\\ML\\Classical-Music-Midi\\albeniz\\alb_se7.mid\n",
      "F:\\Jupyter\\Music\\ML\\Classical-Music-Midi\\albeniz\\alb_se8.mid\n",
      "F:\\Jupyter\\Music\\ML\\Classical-Music-Midi\\bach\\bach_846.mid\n",
      "F:\\Jupyter\\Music\\ML\\Classical-Music-Midi\\bach\\bach_847.mid\n",
      "F:\\Jupyter\\Music\\ML\\Classical-Music-Midi\\bach\\bach_850.mid\n",
      "F:\\Jupyter\\Music\\ML\\Classical-Music-Midi\\balakir\\islamei.mid\n",
      "F:\\Jupyter\\Music\\ML\\Classical-Music-Midi\\beeth\\appass_1.mid\n",
      "F:\\Jupyter\\Music\\ML\\Classical-Music-Midi\\beeth\\appass_2.mid\n",
      "F:\\Jupyter\\Music\\ML\\Classical-Music-Midi\\beeth\\appass_3.mid\n",
      "F:\\Jupyter\\Music\\ML\\Classical-Music-Midi\\beeth\\beethoven_hammerklavier_1.mid\n",
      "F:\\Jupyter\\Music\\ML\\Classical-Music-Midi\\beeth\\beethoven_hammerklavier_2.mid\n",
      "F:\\Jupyter\\Music\\ML\\Classical-Music-Midi\\beeth\\beethoven_hammerklavier_3.mid\n",
      "F:\\Jupyter\\Music\\ML\\Classical-Music-Midi\\beeth\\beethoven_hammerklavier_4.mid\n",
      "F:\\Jupyter\\Music\\ML\\Classical-Music-Midi\\beeth\\beethoven_les_adieux_1.mid\n",
      "F:\\Jupyter\\Music\\ML\\Classical-Music-Midi\\beeth\\beethoven_les_adieux_2.mid\n",
      "F:\\Jupyter\\Music\\ML\\Classical-Music-Midi\\beeth\\beethoven_les_adieux_3.mid\n",
      "F:\\Jupyter\\Music\\ML\\Classical-Music-Midi\\beeth\\beethoven_opus10_1.mid\n",
      "F:\\Jupyter\\Music\\ML\\Classical-Music-Midi\\beeth\\beethoven_opus10_2.mid\n",
      "F:\\Jupyter\\Music\\ML\\Classical-Music-Midi\\beeth\\beethoven_opus10_3.mid\n",
      "F:\\Jupyter\\Music\\ML\\Classical-Music-Midi\\beeth\\beethoven_opus22_1.mid\n",
      "F:\\Jupyter\\Music\\ML\\Classical-Music-Midi\\beeth\\beethoven_opus22_2.mid\n",
      "F:\\Jupyter\\Music\\ML\\Classical-Music-Midi\\beeth\\beethoven_opus22_3.mid\n",
      "F:\\Jupyter\\Music\\ML\\Classical-Music-Midi\\beeth\\beethoven_opus22_4.mid\n",
      "F:\\Jupyter\\Music\\ML\\Classical-Music-Midi\\beeth\\beethoven_opus90_1.mid\n",
      "F:\\Jupyter\\Music\\ML\\Classical-Music-Midi\\beeth\\beethoven_opus90_2.mid\n",
      "F:\\Jupyter\\Music\\ML\\Classical-Music-Midi\\beeth\\elise.mid\n",
      "F:\\Jupyter\\Music\\ML\\Classical-Music-Midi\\beeth\\mond_1.mid\n",
      "F:\\Jupyter\\Music\\ML\\Classical-Music-Midi\\beeth\\mond_2.mid\n",
      "F:\\Jupyter\\Music\\ML\\Classical-Music-Midi\\beeth\\mond_3.mid\n",
      "F:\\Jupyter\\Music\\ML\\Classical-Music-Midi\\beeth\\pathetique_1.mid\n",
      "F:\\Jupyter\\Music\\ML\\Classical-Music-Midi\\beeth\\pathetique_2.mid\n",
      "F:\\Jupyter\\Music\\ML\\Classical-Music-Midi\\beeth\\pathetique_3.mid\n",
      "F:\\Jupyter\\Music\\ML\\Classical-Music-Midi\\beeth\\waldstein_1.mid\n",
      "F:\\Jupyter\\Music\\ML\\Classical-Music-Midi\\beeth\\waldstein_2.mid\n",
      "F:\\Jupyter\\Music\\ML\\Classical-Music-Midi\\beeth\\waldstein_3.mid\n",
      "F:\\Jupyter\\Music\\ML\\Classical-Music-Midi\\borodin\\bor_ps1.mid\n",
      "F:\\Jupyter\\Music\\ML\\Classical-Music-Midi\\borodin\\bor_ps2.mid\n",
      "F:\\Jupyter\\Music\\ML\\Classical-Music-Midi\\borodin\\bor_ps3.mid\n",
      "F:\\Jupyter\\Music\\ML\\Classical-Music-Midi\\borodin\\bor_ps4.mid\n",
      "F:\\Jupyter\\Music\\ML\\Classical-Music-Midi\\borodin\\bor_ps5.mid\n",
      "F:\\Jupyter\\Music\\ML\\Classical-Music-Midi\\borodin\\bor_ps6.mid\n",
      "F:\\Jupyter\\Music\\ML\\Classical-Music-Midi\\borodin\\bor_ps7.mid\n",
      "F:\\Jupyter\\Music\\ML\\Classical-Music-Midi\\brahms\\brahms_opus117_1.mid\n",
      "F:\\Jupyter\\Music\\ML\\Classical-Music-Midi\\brahms\\brahms_opus117_2.mid\n",
      "F:\\Jupyter\\Music\\ML\\Classical-Music-Midi\\brahms\\brahms_opus1_1.mid\n",
      "F:\\Jupyter\\Music\\ML\\Classical-Music-Midi\\brahms\\brahms_opus1_2.mid\n",
      "F:\\Jupyter\\Music\\ML\\Classical-Music-Midi\\brahms\\brahms_opus1_3.mid\n",
      "F:\\Jupyter\\Music\\ML\\Classical-Music-Midi\\brahms\\brahms_opus1_4.mid\n",
      "F:\\Jupyter\\Music\\ML\\Classical-Music-Midi\\brahms\\br_im2.mid\n",
      "F:\\Jupyter\\Music\\ML\\Classical-Music-Midi\\brahms\\br_im5.mid\n",
      "F:\\Jupyter\\Music\\ML\\Classical-Music-Midi\\brahms\\BR_IM6.MID\n",
      "F:\\Jupyter\\Music\\ML\\Classical-Music-Midi\\brahms\\br_rhap.mid\n",
      "F:\\Jupyter\\Music\\ML\\Classical-Music-Midi\\burgm\\burg_agitato.mid\n",
      "F:\\Jupyter\\Music\\ML\\Classical-Music-Midi\\burgm\\burg_erwachen.mid\n",
      "F:\\Jupyter\\Music\\ML\\Classical-Music-Midi\\burgm\\burg_geschwindigkeit.mid\n",
      "F:\\Jupyter\\Music\\ML\\Classical-Music-Midi\\burgm\\burg_gewitter.mid\n",
      "F:\\Jupyter\\Music\\ML\\Classical-Music-Midi\\burgm\\burg_perlen.mid\n",
      "F:\\Jupyter\\Music\\ML\\Classical-Music-Midi\\burgm\\burg_quelle.mid\n",
      "F:\\Jupyter\\Music\\ML\\Classical-Music-Midi\\burgm\\burg_spinnerlied.mid\n",
      "F:\\Jupyter\\Music\\ML\\Classical-Music-Midi\\burgm\\burg_sylphen.mid\n",
      "F:\\Jupyter\\Music\\ML\\Classical-Music-Midi\\burgm\\burg_trennung.mid\n",
      "F:\\Jupyter\\Music\\ML\\Classical-Music-Midi\\chopin\\chpn-p1.mid\n",
      "F:\\Jupyter\\Music\\ML\\Classical-Music-Midi\\chopin\\chpn-p10.mid\n",
      "F:\\Jupyter\\Music\\ML\\Classical-Music-Midi\\chopin\\chpn-p11.mid\n",
      "F:\\Jupyter\\Music\\ML\\Classical-Music-Midi\\chopin\\chpn-p12.mid\n",
      "F:\\Jupyter\\Music\\ML\\Classical-Music-Midi\\chopin\\chpn-p13.mid\n",
      "F:\\Jupyter\\Music\\ML\\Classical-Music-Midi\\chopin\\chpn-p14.mid\n",
      "F:\\Jupyter\\Music\\ML\\Classical-Music-Midi\\chopin\\chpn-p15.mid\n",
      "F:\\Jupyter\\Music\\ML\\Classical-Music-Midi\\chopin\\chpn-p16.mid\n",
      "F:\\Jupyter\\Music\\ML\\Classical-Music-Midi\\chopin\\chpn-p17.mid\n",
      "F:\\Jupyter\\Music\\ML\\Classical-Music-Midi\\chopin\\chpn-p18.mid\n",
      "F:\\Jupyter\\Music\\ML\\Classical-Music-Midi\\chopin\\chpn-p19.mid\n",
      "F:\\Jupyter\\Music\\ML\\Classical-Music-Midi\\chopin\\chpn-p2.mid\n",
      "F:\\Jupyter\\Music\\ML\\Classical-Music-Midi\\chopin\\chpn-p20.mid\n",
      "F:\\Jupyter\\Music\\ML\\Classical-Music-Midi\\chopin\\chpn-p21.mid\n",
      "F:\\Jupyter\\Music\\ML\\Classical-Music-Midi\\chopin\\chpn-p22.mid\n",
      "F:\\Jupyter\\Music\\ML\\Classical-Music-Midi\\chopin\\chpn-p23.mid\n",
      "F:\\Jupyter\\Music\\ML\\Classical-Music-Midi\\chopin\\chpn-p24.mid\n",
      "F:\\Jupyter\\Music\\ML\\Classical-Music-Midi\\chopin\\chpn-p3.mid\n",
      "F:\\Jupyter\\Music\\ML\\Classical-Music-Midi\\chopin\\chpn-p4.mid\n",
      "F:\\Jupyter\\Music\\ML\\Classical-Music-Midi\\chopin\\chpn-p5.mid\n",
      "F:\\Jupyter\\Music\\ML\\Classical-Music-Midi\\chopin\\chpn-p6.mid\n",
      "F:\\Jupyter\\Music\\ML\\Classical-Music-Midi\\chopin\\chpn-p7.mid\n",
      "F:\\Jupyter\\Music\\ML\\Classical-Music-Midi\\chopin\\chpn-p8.mid\n",
      "F:\\Jupyter\\Music\\ML\\Classical-Music-Midi\\chopin\\chpn-p9.mid\n",
      "F:\\Jupyter\\Music\\ML\\Classical-Music-Midi\\chopin\\chpn_op10_e01.mid\n",
      "F:\\Jupyter\\Music\\ML\\Classical-Music-Midi\\chopin\\chpn_op10_e05.mid\n",
      "F:\\Jupyter\\Music\\ML\\Classical-Music-Midi\\chopin\\chpn_op10_e12.mid\n",
      "F:\\Jupyter\\Music\\ML\\Classical-Music-Midi\\chopin\\chpn_op23.mid\n",
      "F:\\Jupyter\\Music\\ML\\Classical-Music-Midi\\chopin\\chpn_op25_e1.mid\n",
      "F:\\Jupyter\\Music\\ML\\Classical-Music-Midi\\chopin\\chpn_op25_e11.mid\n",
      "F:\\Jupyter\\Music\\ML\\Classical-Music-Midi\\chopin\\chpn_op25_e12.mid\n",
      "F:\\Jupyter\\Music\\ML\\Classical-Music-Midi\\chopin\\chpn_op25_e2.mid\n",
      "F:\\Jupyter\\Music\\ML\\Classical-Music-Midi\\chopin\\chpn_op25_e3.mid\n",
      "F:\\Jupyter\\Music\\ML\\Classical-Music-Midi\\chopin\\chpn_op25_e4.mid\n",
      "F:\\Jupyter\\Music\\ML\\Classical-Music-Midi\\chopin\\chpn_op27_1.mid\n",
      "F:\\Jupyter\\Music\\ML\\Classical-Music-Midi\\chopin\\chpn_op27_2.mid\n",
      "F:\\Jupyter\\Music\\ML\\Classical-Music-Midi\\chopin\\chpn_op33_2.mid\n",
      "F:\\Jupyter\\Music\\ML\\Classical-Music-Midi\\chopin\\chpn_op33_4.mid\n",
      "F:\\Jupyter\\Music\\ML\\Classical-Music-Midi\\chopin\\chpn_op35_1.mid\n",
      "F:\\Jupyter\\Music\\ML\\Classical-Music-Midi\\chopin\\chpn_op35_2.mid\n",
      "F:\\Jupyter\\Music\\ML\\Classical-Music-Midi\\chopin\\chpn_op35_3.mid\n",
      "F:\\Jupyter\\Music\\ML\\Classical-Music-Midi\\chopin\\chpn_op35_4.mid\n",
      "F:\\Jupyter\\Music\\ML\\Classical-Music-Midi\\chopin\\chpn_op53.mid\n",
      "F:\\Jupyter\\Music\\ML\\Classical-Music-Midi\\chopin\\chpn_op66.mid\n",
      "F:\\Jupyter\\Music\\ML\\Classical-Music-Midi\\chopin\\chpn_op7_1.mid\n",
      "F:\\Jupyter\\Music\\ML\\Classical-Music-Midi\\chopin\\chpn_op7_2.mid\n",
      "F:\\Jupyter\\Music\\ML\\Classical-Music-Midi\\chopin\\chp_op18.mid\n",
      "F:\\Jupyter\\Music\\ML\\Classical-Music-Midi\\chopin\\chp_op31.mid\n",
      "F:\\Jupyter\\Music\\ML\\Classical-Music-Midi\\debussy\\debussy_cc_1.mid\n",
      "F:\\Jupyter\\Music\\ML\\Classical-Music-Midi\\debussy\\debussy_cc_2.mid\n",
      "F:\\Jupyter\\Music\\ML\\Classical-Music-Midi\\debussy\\debussy_cc_3.mid\n",
      "F:\\Jupyter\\Music\\ML\\Classical-Music-Midi\\debussy\\debussy_cc_4.mid\n",
      "F:\\Jupyter\\Music\\ML\\Classical-Music-Midi\\debussy\\debussy_cc_6.mid\n",
      "F:\\Jupyter\\Music\\ML\\Classical-Music-Midi\\debussy\\DEB_CLAI.MID\n",
      "F:\\Jupyter\\Music\\ML\\Classical-Music-Midi\\debussy\\deb_menu.mid\n",
      "F:\\Jupyter\\Music\\ML\\Classical-Music-Midi\\debussy\\DEB_PASS.MID\n",
      "F:\\Jupyter\\Music\\ML\\Classical-Music-Midi\\debussy\\deb_prel.mid\n",
      "F:\\Jupyter\\Music\\ML\\Classical-Music-Midi\\extend\\bach_846.mid\n",
      "F:\\Jupyter\\Music\\ML\\Classical-Music-Midi\\extend\\bach_847.mid\n",
      "F:\\Jupyter\\Music\\ML\\Classical-Music-Midi\\extend\\bach_850.mid\n",
      "F:\\Jupyter\\Music\\ML\\Classical-Music-Midi\\granados\\gra_esp_2.mid\n",
      "F:\\Jupyter\\Music\\ML\\Classical-Music-Midi\\granados\\gra_esp_3.mid\n",
      "F:\\Jupyter\\Music\\ML\\Classical-Music-Midi\\granados\\gra_esp_4.mid\n",
      "F:\\Jupyter\\Music\\ML\\Classical-Music-Midi\\grieg\\grieg_album.mid\n",
      "F:\\Jupyter\\Music\\ML\\Classical-Music-Midi\\grieg\\grieg_berceuse.mid\n",
      "F:\\Jupyter\\Music\\ML\\Classical-Music-Midi\\grieg\\grieg_brooklet.mid\n",
      "F:\\Jupyter\\Music\\ML\\Classical-Music-Midi\\grieg\\grieg_butterfly.mid\n",
      "F:\\Jupyter\\Music\\ML\\Classical-Music-Midi\\grieg\\grieg_elfentanz.mid\n",
      "F:\\Jupyter\\Music\\ML\\Classical-Music-Midi\\grieg\\grieg_halling.mid\n",
      "F:\\Jupyter\\Music\\ML\\Classical-Music-Midi\\grieg\\grieg_kobold.mid\n",
      "F:\\Jupyter\\Music\\ML\\Classical-Music-Midi\\grieg\\grieg_march.mid\n",
      "F:\\Jupyter\\Music\\ML\\Classical-Music-Midi\\grieg\\grieg_once_upon_a_time.mid\n",
      "F:\\Jupyter\\Music\\ML\\Classical-Music-Midi\\grieg\\grieg_spring.mid\n",
      "F:\\Jupyter\\Music\\ML\\Classical-Music-Midi\\grieg\\grieg_voeglein.mid\n",
      "F:\\Jupyter\\Music\\ML\\Classical-Music-Midi\\grieg\\grieg_waechter.mid\n",
      "F:\\Jupyter\\Music\\ML\\Classical-Music-Midi\\grieg\\grieg_walzer.mid\n",
      "F:\\Jupyter\\Music\\ML\\Classical-Music-Midi\\grieg\\grieg_wanderer.mid\n",
      "F:\\Jupyter\\Music\\ML\\Classical-Music-Midi\\grieg\\grieg_wedding.mid\n",
      "F:\\Jupyter\\Music\\ML\\Classical-Music-Midi\\grieg\\grieg_zwerge.mid\n",
      "F:\\Jupyter\\Music\\ML\\Classical-Music-Midi\\haydn\\haydn_33_1.mid\n",
      "F:\\Jupyter\\Music\\ML\\Classical-Music-Midi\\haydn\\haydn_33_2.mid\n",
      "F:\\Jupyter\\Music\\ML\\Classical-Music-Midi\\haydn\\haydn_33_3.mid\n",
      "F:\\Jupyter\\Music\\ML\\Classical-Music-Midi\\haydn\\haydn_35_1.mid\n",
      "F:\\Jupyter\\Music\\ML\\Classical-Music-Midi\\haydn\\haydn_35_2.mid\n",
      "F:\\Jupyter\\Music\\ML\\Classical-Music-Midi\\haydn\\haydn_35_3.mid\n",
      "F:\\Jupyter\\Music\\ML\\Classical-Music-Midi\\haydn\\haydn_43_1.mid\n",
      "F:\\Jupyter\\Music\\ML\\Classical-Music-Midi\\haydn\\haydn_43_2.mid\n",
      "F:\\Jupyter\\Music\\ML\\Classical-Music-Midi\\haydn\\haydn_43_3.mid\n",
      "F:\\Jupyter\\Music\\ML\\Classical-Music-Midi\\haydn\\haydn_7_1.mid\n",
      "F:\\Jupyter\\Music\\ML\\Classical-Music-Midi\\haydn\\haydn_7_2.mid\n",
      "F:\\Jupyter\\Music\\ML\\Classical-Music-Midi\\haydn\\haydn_7_3.mid\n",
      "F:\\Jupyter\\Music\\ML\\Classical-Music-Midi\\haydn\\haydn_8_1.mid\n",
      "F:\\Jupyter\\Music\\ML\\Classical-Music-Midi\\haydn\\haydn_8_2.mid\n",
      "F:\\Jupyter\\Music\\ML\\Classical-Music-Midi\\haydn\\haydn_8_3.mid\n",
      "F:\\Jupyter\\Music\\ML\\Classical-Music-Midi\\haydn\\haydn_8_4.mid\n",
      "F:\\Jupyter\\Music\\ML\\Classical-Music-Midi\\haydn\\haydn_9_1.mid\n",
      "F:\\Jupyter\\Music\\ML\\Classical-Music-Midi\\haydn\\haydn_9_2.mid\n",
      "F:\\Jupyter\\Music\\ML\\Classical-Music-Midi\\haydn\\haydn_9_3.mid\n",
      "F:\\Jupyter\\Music\\ML\\Classical-Music-Midi\\haydn\\hay_40_1.mid\n",
      "F:\\Jupyter\\Music\\ML\\Classical-Music-Midi\\haydn\\hay_40_2.mid\n",
      "F:\\Jupyter\\Music\\ML\\Classical-Music-Midi\\liszt\\liz_donjuan.mid\n",
      "F:\\Jupyter\\Music\\ML\\Classical-Music-Midi\\liszt\\liz_et1.mid\n",
      "F:\\Jupyter\\Music\\ML\\Classical-Music-Midi\\liszt\\liz_et2.mid\n",
      "F:\\Jupyter\\Music\\ML\\Classical-Music-Midi\\liszt\\liz_et3.mid\n",
      "F:\\Jupyter\\Music\\ML\\Classical-Music-Midi\\liszt\\liz_et4.mid\n",
      "F:\\Jupyter\\Music\\ML\\Classical-Music-Midi\\liszt\\liz_et5.mid\n",
      "F:\\Jupyter\\Music\\ML\\Classical-Music-Midi\\liszt\\liz_et6.mid\n",
      "F:\\Jupyter\\Music\\ML\\Classical-Music-Midi\\liszt\\liz_et_trans4.mid\n",
      "F:\\Jupyter\\Music\\ML\\Classical-Music-Midi\\liszt\\liz_et_trans5.mid\n",
      "F:\\Jupyter\\Music\\ML\\Classical-Music-Midi\\liszt\\liz_et_trans8.mid\n",
      "F:\\Jupyter\\Music\\ML\\Classical-Music-Midi\\liszt\\liz_liebestraum.mid\n",
      "F:\\Jupyter\\Music\\ML\\Classical-Music-Midi\\liszt\\liz_rhap02.mid\n",
      "F:\\Jupyter\\Music\\ML\\Classical-Music-Midi\\liszt\\liz_rhap09.mid\n",
      "F:\\Jupyter\\Music\\ML\\Classical-Music-Midi\\liszt\\liz_rhap10.mid\n",
      "F:\\Jupyter\\Music\\ML\\Classical-Music-Midi\\liszt\\liz_rhap12.mid\n",
      "F:\\Jupyter\\Music\\ML\\Classical-Music-Midi\\liszt\\liz_rhap15.mid\n",
      "F:\\Jupyter\\Music\\ML\\Classical-Music-Midi\\mendelssohn\\mendel_op19_1.mid\n",
      "F:\\Jupyter\\Music\\ML\\Classical-Music-Midi\\mendelssohn\\mendel_op19_2.mid\n",
      "F:\\Jupyter\\Music\\ML\\Classical-Music-Midi\\mendelssohn\\mendel_op19_3.mid\n",
      "F:\\Jupyter\\Music\\ML\\Classical-Music-Midi\\mendelssohn\\mendel_op19_4.mid\n",
      "F:\\Jupyter\\Music\\ML\\Classical-Music-Midi\\mendelssohn\\mendel_op19_5.mid\n",
      "F:\\Jupyter\\Music\\ML\\Classical-Music-Midi\\mendelssohn\\mendel_op19_6.mid\n",
      "F:\\Jupyter\\Music\\ML\\Classical-Music-Midi\\mendelssohn\\mendel_op30_1.mid\n",
      "F:\\Jupyter\\Music\\ML\\Classical-Music-Midi\\mendelssohn\\mendel_op30_2.mid\n",
      "F:\\Jupyter\\Music\\ML\\Classical-Music-Midi\\mendelssohn\\mendel_op30_3.mid\n",
      "F:\\Jupyter\\Music\\ML\\Classical-Music-Midi\\mendelssohn\\mendel_op30_4.mid\n",
      "F:\\Jupyter\\Music\\ML\\Classical-Music-Midi\\mendelssohn\\mendel_op30_5.mid\n",
      "F:\\Jupyter\\Music\\ML\\Classical-Music-Midi\\mendelssohn\\mendel_op53_5.mid\n",
      "F:\\Jupyter\\Music\\ML\\Classical-Music-Midi\\mendelssohn\\mendel_op62_3.mid\n",
      "F:\\Jupyter\\Music\\ML\\Classical-Music-Midi\\mendelssohn\\mendel_op62_4.mid\n",
      "F:\\Jupyter\\Music\\ML\\Classical-Music-Midi\\mendelssohn\\mendel_op62_5.mid\n",
      "F:\\Jupyter\\Music\\ML\\Classical-Music-Midi\\mozart\\mz_311_1.mid\n",
      "F:\\Jupyter\\Music\\ML\\Classical-Music-Midi\\mozart\\mz_311_2.mid\n",
      "F:\\Jupyter\\Music\\ML\\Classical-Music-Midi\\mozart\\mz_311_3.mid\n",
      "F:\\Jupyter\\Music\\ML\\Classical-Music-Midi\\mozart\\mz_330_1.mid\n",
      "F:\\Jupyter\\Music\\ML\\Classical-Music-Midi\\mozart\\mz_330_2.mid\n",
      "F:\\Jupyter\\Music\\ML\\Classical-Music-Midi\\mozart\\mz_330_3.mid\n",
      "F:\\Jupyter\\Music\\ML\\Classical-Music-Midi\\mozart\\mz_331_1.mid\n",
      "F:\\Jupyter\\Music\\ML\\Classical-Music-Midi\\mozart\\mz_331_2.mid\n",
      "F:\\Jupyter\\Music\\ML\\Classical-Music-Midi\\mozart\\mz_331_3.mid\n",
      "F:\\Jupyter\\Music\\ML\\Classical-Music-Midi\\mozart\\mz_332_1.mid\n",
      "F:\\Jupyter\\Music\\ML\\Classical-Music-Midi\\mozart\\mz_332_2.mid\n",
      "F:\\Jupyter\\Music\\ML\\Classical-Music-Midi\\mozart\\mz_332_3.mid\n",
      "F:\\Jupyter\\Music\\ML\\Classical-Music-Midi\\mozart\\mz_333_1.mid\n",
      "F:\\Jupyter\\Music\\ML\\Classical-Music-Midi\\mozart\\mz_333_2.mid\n",
      "F:\\Jupyter\\Music\\ML\\Classical-Music-Midi\\mozart\\mz_333_3.mid\n",
      "F:\\Jupyter\\Music\\ML\\Classical-Music-Midi\\mozart\\mz_545_1.mid\n",
      "F:\\Jupyter\\Music\\ML\\Classical-Music-Midi\\mozart\\mz_545_2.mid\n",
      "F:\\Jupyter\\Music\\ML\\Classical-Music-Midi\\mozart\\mz_545_3.mid\n",
      "F:\\Jupyter\\Music\\ML\\Classical-Music-Midi\\mozart\\mz_570_1.mid\n",
      "F:\\Jupyter\\Music\\ML\\Classical-Music-Midi\\mozart\\mz_570_2.mid\n",
      "F:\\Jupyter\\Music\\ML\\Classical-Music-Midi\\mozart\\mz_570_3.mid\n",
      "F:\\Jupyter\\Music\\ML\\Classical-Music-Midi\\muss\\muss_1.mid\n",
      "F:\\Jupyter\\Music\\ML\\Classical-Music-Midi\\muss\\muss_2.mid\n",
      "F:\\Jupyter\\Music\\ML\\Classical-Music-Midi\\muss\\muss_3.mid\n",
      "F:\\Jupyter\\Music\\ML\\Classical-Music-Midi\\muss\\muss_4.mid\n",
      "F:\\Jupyter\\Music\\ML\\Classical-Music-Midi\\muss\\muss_5.mid\n",
      "F:\\Jupyter\\Music\\ML\\Classical-Music-Midi\\muss\\muss_6.mid\n",
      "F:\\Jupyter\\Music\\ML\\Classical-Music-Midi\\muss\\muss_7.mid\n",
      "F:\\Jupyter\\Music\\ML\\Classical-Music-Midi\\muss\\muss_8.mid\n",
      "F:\\Jupyter\\Music\\ML\\Classical-Music-Midi\\schubert\\schubert_D850_1.mid\n",
      "F:\\Jupyter\\Music\\ML\\Classical-Music-Midi\\schubert\\schubert_D850_2.mid\n",
      "F:\\Jupyter\\Music\\ML\\Classical-Music-Midi\\schubert\\schubert_D850_3.mid\n",
      "F:\\Jupyter\\Music\\ML\\Classical-Music-Midi\\schubert\\schubert_D850_4.mid\n",
      "F:\\Jupyter\\Music\\ML\\Classical-Music-Midi\\schubert\\schubert_D935_1.mid\n",
      "F:\\Jupyter\\Music\\ML\\Classical-Music-Midi\\schubert\\schubert_D935_2.mid\n",
      "F:\\Jupyter\\Music\\ML\\Classical-Music-Midi\\schubert\\schubert_D935_3.mid\n",
      "F:\\Jupyter\\Music\\ML\\Classical-Music-Midi\\schubert\\schubert_D935_4.mid\n",
      "F:\\Jupyter\\Music\\ML\\Classical-Music-Midi\\schubert\\schub_d760_1.mid\n",
      "F:\\Jupyter\\Music\\ML\\Classical-Music-Midi\\schubert\\schub_d760_2.mid\n",
      "F:\\Jupyter\\Music\\ML\\Classical-Music-Midi\\schubert\\schub_d760_3.mid\n",
      "F:\\Jupyter\\Music\\ML\\Classical-Music-Midi\\schubert\\schub_d760_4.mid\n",
      "F:\\Jupyter\\Music\\ML\\Classical-Music-Midi\\schubert\\schub_d960_1.mid\n",
      "F:\\Jupyter\\Music\\ML\\Classical-Music-Midi\\schubert\\schub_d960_2.mid\n",
      "F:\\Jupyter\\Music\\ML\\Classical-Music-Midi\\schubert\\schub_d960_3.mid\n",
      "F:\\Jupyter\\Music\\ML\\Classical-Music-Midi\\schubert\\schub_d960_4.mid\n",
      "F:\\Jupyter\\Music\\ML\\Classical-Music-Midi\\schubert\\schuim-1.mid\n",
      "F:\\Jupyter\\Music\\ML\\Classical-Music-Midi\\schubert\\schuim-2.mid\n",
      "F:\\Jupyter\\Music\\ML\\Classical-Music-Midi\\schubert\\schuim-3.mid\n",
      "F:\\Jupyter\\Music\\ML\\Classical-Music-Midi\\schubert\\schuim-4.mid\n",
      "F:\\Jupyter\\Music\\ML\\Classical-Music-Midi\\schubert\\schumm-1.mid\n",
      "F:\\Jupyter\\Music\\ML\\Classical-Music-Midi\\schubert\\schumm-2.mid\n",
      "F:\\Jupyter\\Music\\ML\\Classical-Music-Midi\\schubert\\schumm-3.mid\n",
      "F:\\Jupyter\\Music\\ML\\Classical-Music-Midi\\schubert\\schumm-4.mid\n",
      "F:\\Jupyter\\Music\\ML\\Classical-Music-Midi\\schubert\\schumm-5.mid\n",
      "F:\\Jupyter\\Music\\ML\\Classical-Music-Midi\\schubert\\schumm-6.mid\n",
      "F:\\Jupyter\\Music\\ML\\Classical-Music-Midi\\schubert\\schu_143_1.mid\n",
      "F:\\Jupyter\\Music\\ML\\Classical-Music-Midi\\schubert\\schu_143_2.mid\n",
      "F:\\Jupyter\\Music\\ML\\Classical-Music-Midi\\schubert\\schu_143_3.mid\n",
      "F:\\Jupyter\\Music\\ML\\Classical-Music-Midi\\schumann\\schum_abegg.mid\n",
      "F:\\Jupyter\\Music\\ML\\Classical-Music-Midi\\schumann\\scn15_1.mid\n",
      "F:\\Jupyter\\Music\\ML\\Classical-Music-Midi\\schumann\\scn15_10.mid\n",
      "F:\\Jupyter\\Music\\ML\\Classical-Music-Midi\\schumann\\scn15_11.mid\n",
      "F:\\Jupyter\\Music\\ML\\Classical-Music-Midi\\schumann\\scn15_12.mid\n",
      "F:\\Jupyter\\Music\\ML\\Classical-Music-Midi\\schumann\\scn15_13.mid\n",
      "F:\\Jupyter\\Music\\ML\\Classical-Music-Midi\\schumann\\scn15_2.mid\n",
      "F:\\Jupyter\\Music\\ML\\Classical-Music-Midi\\schumann\\scn15_3.mid\n",
      "F:\\Jupyter\\Music\\ML\\Classical-Music-Midi\\schumann\\scn15_4.mid\n",
      "F:\\Jupyter\\Music\\ML\\Classical-Music-Midi\\schumann\\scn15_5.mid\n",
      "F:\\Jupyter\\Music\\ML\\Classical-Music-Midi\\schumann\\scn15_6.mid\n",
      "F:\\Jupyter\\Music\\ML\\Classical-Music-Midi\\schumann\\scn15_7.mid\n",
      "F:\\Jupyter\\Music\\ML\\Classical-Music-Midi\\schumann\\scn15_8.mid\n",
      "F:\\Jupyter\\Music\\ML\\Classical-Music-Midi\\schumann\\scn15_9.mid\n",
      "F:\\Jupyter\\Music\\ML\\Classical-Music-Midi\\schumann\\scn16_1.mid\n",
      "F:\\Jupyter\\Music\\ML\\Classical-Music-Midi\\schumann\\scn16_2.mid\n",
      "F:\\Jupyter\\Music\\ML\\Classical-Music-Midi\\schumann\\scn16_3.mid\n",
      "F:\\Jupyter\\Music\\ML\\Classical-Music-Midi\\schumann\\scn16_4.mid\n",
      "F:\\Jupyter\\Music\\ML\\Classical-Music-Midi\\schumann\\scn16_5.mid\n",
      "F:\\Jupyter\\Music\\ML\\Classical-Music-Midi\\schumann\\scn16_6.mid\n",
      "F:\\Jupyter\\Music\\ML\\Classical-Music-Midi\\schumann\\scn16_7.mid\n",
      "F:\\Jupyter\\Music\\ML\\Classical-Music-Midi\\schumann\\scn16_8.mid\n",
      "F:\\Jupyter\\Music\\ML\\Classical-Music-Midi\\schumann\\scn68_10.mid\n",
      "F:\\Jupyter\\Music\\ML\\Classical-Music-Midi\\schumann\\scn68_12.mid\n",
      "F:\\Jupyter\\Music\\ML\\Classical-Music-Midi\\tschai\\ty_april.mid\n",
      "F:\\Jupyter\\Music\\ML\\Classical-Music-Midi\\tschai\\ty_august.mid\n",
      "F:\\Jupyter\\Music\\ML\\Classical-Music-Midi\\tschai\\ty_dezember.mid\n",
      "F:\\Jupyter\\Music\\ML\\Classical-Music-Midi\\tschai\\ty_februar.mid\n",
      "F:\\Jupyter\\Music\\ML\\Classical-Music-Midi\\tschai\\ty_januar.mid\n",
      "F:\\Jupyter\\Music\\ML\\Classical-Music-Midi\\tschai\\ty_juli.mid\n",
      "F:\\Jupyter\\Music\\ML\\Classical-Music-Midi\\tschai\\ty_juni.mid\n",
      "F:\\Jupyter\\Music\\ML\\Classical-Music-Midi\\tschai\\ty_maerz.mid\n",
      "F:\\Jupyter\\Music\\ML\\Classical-Music-Midi\\tschai\\ty_mai.mid\n",
      "F:\\Jupyter\\Music\\ML\\Classical-Music-Midi\\tschai\\ty_november.mid\n",
      "F:\\Jupyter\\Music\\ML\\Classical-Music-Midi\\tschai\\ty_oktober.mid\n",
      "F:\\Jupyter\\Music\\ML\\Classical-Music-Midi\\tschai\\ty_september.mid\n"
     ]
    }
   ],
   "source": [
    "# This Python 3 environment comes with many helpful analytics libraries installed\n",
    "# It is defined by the kaggle/python Docker image: https://github.com/kaggle/docker-python\n",
    "# For example, here's several helpful packages to load\n",
    "\n",
    "import numpy as np # linear algebra\n",
    "import pandas as pd # data processing, CSV file I/O (e.g. pd.read_csv)\n",
    "\n",
    "# Input data files are available in the read-only \"../input/\" directory\n",
    "# For example, running this (by clicking run or pressing Shift+Enter) will list all files under the input directory\n",
    "\n",
    "import os\n",
    "for dirname, _, filenames in os.walk('F:\\Jupyter\\Music\\ML\\Classical-Music-Midi'):\n",
    "    for filename in filenames:\n",
    "        print(os.path.join(dirname, filename))\n",
    "\n",
    "# You can write up to 20GB to the current directory (/kaggle/working/) that gets preserved as output when you create a version using \"Save & Run All\" \n",
    "# You can also write temporary files to /kaggle/temp/, but they won't be saved outside of the current session\n",
    "\n",
    "#Installing dependencies\n",
    "# !pip install music21\n",
    "# !apt-get install -y lilypond"
   ]
  },
  {
   "cell_type": "code",
   "execution_count": 2,
   "metadata": {
    "_kg_hide-output": true,
    "execution": {
     "iopub.execute_input": "2022-05-09T11:13:58.053988Z",
     "iopub.status.busy": "2022-05-09T11:13:58.053496Z",
     "iopub.status.idle": "2022-05-09T11:13:58.092810Z",
     "shell.execute_reply": "2022-05-09T11:13:58.091538Z",
     "shell.execute_reply.started": "2022-05-09T11:13:58.053939Z"
    }
   },
   "outputs": [],
   "source": [
    "#Importing Libraries\n",
    "import tensorflow \n",
    "import numpy as np \n",
    "import pandas as pd \n",
    "from collections import Counter\n",
    "import random\n",
    "import IPython\n",
    "from IPython.display import Image, Audio\n",
    "import music21\n",
    "from music21 import *\n",
    "import matplotlib.pyplot as plt \n",
    "from sklearn.model_selection import train_test_split\n",
    "from tensorflow.keras.models import Sequential\n",
    "from tensorflow.keras.layers import LSTM, Dense, Dropout\n",
    "import tensorflow.keras.backend as K\n",
    "from tensorflow.keras.optimizers import Adamax\n",
    "import seaborn as sns\n",
    "import matplotlib.pyplot as plt\n",
    "import matplotlib.patches as mpatches\n",
    "%matplotlib inline\n",
    "import sys\n",
    "import warnings\n",
    "warnings.filterwarnings(\"ignore\")\n",
    "warnings.simplefilter(\"ignore\")\n",
    "np.random.seed(42)"
   ]
  },
  {
   "cell_type": "code",
   "execution_count": 3,
   "metadata": {
    "execution": {
     "iopub.execute_input": "2022-05-09T11:14:07.400527Z",
     "iopub.status.busy": "2022-05-09T11:14:07.399970Z",
     "iopub.status.idle": "2022-05-09T11:14:07.438625Z",
     "shell.execute_reply": "2022-05-09T11:14:07.437335Z",
     "shell.execute_reply.started": "2022-05-09T11:14:07.400472Z"
    }
   },
   "outputs": [],
   "source": [
    "#Loading the list of chopin's midi files as stream \n",
    "filepath = \"F:\\\\Jupyter\\\\Music\\\\ML\\\\Classical-Music-Midi\\\\bach\\\\\"\n",
    "#Getting midi files\n",
    "all_midis= []\n",
    "for i in os.listdir(filepath):\n",
    "    if i.endswith(\".mid\"):\n",
    "        tr = filepath+i\n",
    "        midi = converter.parse(tr)\n",
    "        all_midis.append(midi)"
   ]
  },
  {
   "cell_type": "code",
   "execution_count": 4,
   "metadata": {
    "execution": {
     "iopub.status.busy": "2022-05-09T11:13:52.348111Z",
     "iopub.status.idle": "2022-05-09T11:13:52.348965Z",
     "shell.execute_reply": "2022-05-09T11:13:52.348684Z",
     "shell.execute_reply.started": "2022-05-09T11:13:52.348656Z"
    }
   },
   "outputs": [
    {
     "name": "stdout",
     "output_type": "stream",
     "text": [
      "Total notes in all the Bach midis in the dataset: 500\n"
     ]
    }
   ],
   "source": [
    "#Helping function        \n",
    "def extract_notes(file):\n",
    "    notes = []\n",
    "    pick = None\n",
    "    for j in file:\n",
    "        songs = instrument.partitionByInstrument(j)\n",
    "        for part in songs.parts:\n",
    "            pick = part.recurse()\n",
    "            for element in pick:\n",
    "                if isinstance(element, note.Note):\n",
    "                    notes.append(str(element.pitch))\n",
    "                elif isinstance(element, chord.Chord):\n",
    "                    notes.append(\".\".join(str(n) for n in element.normalOrder))\n",
    "\n",
    "    return notes\n",
    "#Getting the list of notes as Corpus\n",
    "Corpus= extract_notes(all_midis)[:500]\n",
    "print(\"Total notes in all the Bach midis in the dataset:\", len(Corpus))"
   ]
  },
  {
   "cell_type": "code",
   "execution_count": 5,
   "metadata": {
    "execution": {
     "iopub.status.busy": "2022-05-09T11:13:52.350609Z",
     "iopub.status.idle": "2022-05-09T11:13:52.351353Z",
     "shell.execute_reply": "2022-05-09T11:13:52.351110Z",
     "shell.execute_reply.started": "2022-05-09T11:13:52.351083Z"
    }
   },
   "outputs": [
    {
     "name": "stdout",
     "output_type": "stream",
     "text": [
      "First fifty values in the Corpus: ['C4', 'E4', 'G4', 'C5', 'E5', 'G4', 'C5', 'E5', 'C4', 'E4', 'G4', 'C5', 'E5', 'G4', 'C5', 'E5', 'C4', 'D4', 'A4', 'D5', 'F5', 'A4', 'D5', 'F5', 'C4', 'D4', 'A4', 'D5', 'F5', 'A4', 'D5', 'F5', 'B3', 'D4', 'G4', 'D5', 'F5', 'G4', 'D5', 'F5', 'B3', 'D4', 'G4', 'D5', 'F5', 'G4', 'D5', 'F5', 'C4', 'E4']\n"
     ]
    }
   ],
   "source": [
    "print(\"First fifty values in the Corpus:\", Corpus[:50])"
   ]
  },
  {
   "cell_type": "markdown",
   "metadata": {},
   "source": [
    "All these values indicate the notes, as mentioned above.\n",
    "\n",
    "**Printing the music sheet**"
   ]
  },
  {
   "cell_type": "code",
   "execution_count": 6,
   "metadata": {},
   "outputs": [],
   "source": [
    "env = environment.Environment()\n",
    "environment.Environment()['lilypondPath'] = r'E:\\break-app\\LilyPond\\usr\\bin\\lilypond-windows.exe'"
   ]
  },
  {
   "cell_type": "code",
   "execution_count": 7,
   "metadata": {
    "execution": {
     "iopub.status.busy": "2022-05-09T11:13:52.353137Z",
     "iopub.status.idle": "2022-05-09T11:13:52.353889Z",
     "shell.execute_reply": "2022-05-09T11:13:52.353628Z",
     "shell.execute_reply.started": "2022-05-09T11:13:52.353602Z"
    }
   },
   "outputs": [
    {
     "data": {
      "image/png": "[encoded data removed]",
      "text/plain": [
       "<IPython.core.display.Image object>"
      ]
     },
     "metadata": {},
     "output_type": "display_data"
    }
   ],
   "source": [
    "#First Lets write some functions that we need to look into the data\n",
    "def show(music):\n",
    "    display(Image(str(music.write(\"lily.png\"))))\n",
    "    \n",
    "def chords_n_notes(Snippet):\n",
    "    Melody = []\n",
    "    offset = 0 #Incremental\n",
    "    for i in Snippet:\n",
    "        #If it is chord\n",
    "        if (\".\" in i or i.isdigit()):\n",
    "            chord_notes = i.split(\".\") #Seperating the notes in chord\n",
    "            notes = [] \n",
    "            for j in chord_notes:\n",
    "                inst_note=int(j)\n",
    "                note_snip = note.Note(inst_note)            \n",
    "                notes.append(note_snip)\n",
    "                chord_snip = chord.Chord(notes)\n",
    "                chord_snip.offset = offset\n",
    "                Melody.append(chord_snip)\n",
    "        # pattern is a note\n",
    "        else: \n",
    "            note_snip = note.Note(i)\n",
    "            note_snip.offset = offset\n",
    "            Melody.append(note_snip)\n",
    "        # increase offset each iteration so that notes do not stack\n",
    "        offset += 1\n",
    "    Melody_midi = stream.Stream(Melody)   \n",
    "    return Melody_midi\n",
    "\n",
    "Melody_Snippet = chords_n_notes(Corpus[:100])\n",
    "show(Melody_Snippet)"
   ]
  },
  {
   "cell_type": "markdown",
   "metadata": {},
   "source": [
    "**Playing the above sheet music** \n",
    "\n",
    "*As I could not play a midi file on the Kaggle interface, I have created a \".wav\" filetype of the same outside of this code. I am using it to create an audio interface. Let us have a listen to the data corpus.* "
   ]
  },
  {
   "cell_type": "markdown",
   "metadata": {
    "execution": {
     "iopub.status.busy": "2022-05-09T11:13:52.355464Z",
     "iopub.status.idle": "2022-05-09T11:13:52.356192Z",
     "shell.execute_reply": "2022-05-09T11:13:52.355951Z",
     "shell.execute_reply.started": "2022-05-09T11:13:52.355926Z"
    }
   },
   "source": [
    "#to play audio or corpus\n",
    "print(\"Sample Audio From Data\")\n",
    "IPython.display.Audio(\"../input/music-generated-lstm/Corpus_Snippet.wav\") "
   ]
  },
  {
   "cell_type": "markdown",
   "metadata": {},
   "source": [
    "**Examine all the notes in the Corpus** "
   ]
  },
  {
   "cell_type": "code",
   "execution_count": 8,
   "metadata": {
    "execution": {
     "iopub.status.busy": "2022-05-09T11:13:52.357723Z",
     "iopub.status.idle": "2022-05-09T11:13:52.358462Z",
     "shell.execute_reply": "2022-05-09T11:13:52.358212Z",
     "shell.execute_reply.started": "2022-05-09T11:13:52.358186Z"
    }
   },
   "outputs": [
    {
     "name": "stdout",
     "output_type": "stream",
     "text": [
      "Total unique notes in the Corpus: 31\n"
     ]
    }
   ],
   "source": [
    "#Creating a count dictionary\n",
    "count_num = Counter(Corpus)\n",
    "print(\"Total unique notes in the Corpus:\", len(count_num))"
   ]
  },
  {
   "cell_type": "code",
   "execution_count": 9,
   "metadata": {
    "execution": {
     "iopub.status.busy": "2022-05-09T11:13:52.360062Z",
     "iopub.status.idle": "2022-05-09T11:13:52.361056Z",
     "shell.execute_reply": "2022-05-09T11:13:52.360799Z",
     "shell.execute_reply.started": "2022-05-09T11:13:52.360773Z"
    }
   },
   "outputs": [
    {
     "name": "stdout",
     "output_type": "stream",
     "text": [
      "Average recurrenc for a note in Corpus: 16.129032258064516\n",
      "Most frequent note in Corpus appeared: 66 times\n",
      "Least frequent note in Corpus appeared: 1 time\n"
     ]
    }
   ],
   "source": [
    "#Exploring the notes dictionary\n",
    "Notes = list(count_num.keys())\n",
    "Recurrence = list(count_num.values())\n",
    "#Average recurrenc for a note in Corpus\n",
    "def Average(lst):\n",
    "    return sum(lst) / len(lst)\n",
    "print(\"Average recurrenc for a note in Corpus:\", Average(Recurrence))\n",
    "print(\"Most frequent note in Corpus appeared:\", max(Recurrence), \"times\")\n",
    "print(\"Least frequent note in Corpus appeared:\", min(Recurrence), \"time\")"
   ]
  },
  {
   "cell_type": "markdown",
   "metadata": {},
   "source": [
    "Clearly, there are some very rare notes in the melody; some so rare that it was played only once in the whole data. This would create a lot of problems. (I did run into most of them while writing this piece)\n",
    "To spare us the error reports, let us have a look at the frequency of the notes. \n",
    "And for simplicity, I shall be eliminating some of the least occurring notes. I am sure Chopin wouldn't mind me messing with his masterpiece for science or would he? Either way, I may never know!   "
   ]
  },
  {
   "cell_type": "code",
   "execution_count": 10,
   "metadata": {
    "execution": {
     "iopub.status.busy": "2022-05-09T11:13:52.362571Z",
     "iopub.status.idle": "2022-05-09T11:13:52.363354Z",
     "shell.execute_reply": "2022-05-09T11:13:52.363113Z",
     "shell.execute_reply.started": "2022-05-09T11:13:52.363086Z"
    }
   },
   "outputs": [
    {
     "data": {
      "image/png": "[encoded data removed]",
      "text/plain": [
       "<Figure size 1296x216 with 1 Axes>"
      ]
     },
     "metadata": {
      "image/png": {
       "height": 222,
       "width": 1052
      }
     },
     "output_type": "display_data"
    }
   ],
   "source": [
    "# Plotting the distribution of Notes\n",
    "plt.figure(figsize=(18,3),facecolor=\"#97BACB\")\n",
    "bins = np.arange(0,(max(Recurrence)), 50) \n",
    "plt.hist(Recurrence, bins=bins, color=\"#97BACB\")\n",
    "plt.axvline(x=100,color=\"#DBACC1\")\n",
    "plt.title(\"Frequency Distribution Of Notes In The Corpus\")\n",
    "plt.xlabel(\"Frequency Of Chords in Corpus\")\n",
    "plt.ylabel(\"Number Of Chords\")\n",
    "plt.show()"
   ]
  },
  {
   "cell_type": "markdown",
   "metadata": {},
   "source": [
    "I have decided, I will be taking out the notes that were played less than 100 times. I mean, if Chopin liked them he would have played it a lot more often. So I create a list of rare notes in the next section. "
   ]
  },
  {
   "cell_type": "markdown",
   "metadata": {
    "execution": {
     "iopub.status.busy": "2022-05-09T11:13:52.364934Z",
     "iopub.status.idle": "2022-05-09T11:13:52.365690Z",
     "shell.execute_reply": "2022-05-09T11:13:52.365451Z",
     "shell.execute_reply.started": "2022-05-09T11:13:52.365425Z"
    }
   },
   "source": [
    "#Getting a list of rare chords\n",
    "rare_note = []\n",
    "for index, (key, value) in enumerate(count_num.items()):\n",
    "    if value < 100:\n",
    "        m =  key\n",
    "        rare_note.append(m)\n",
    "        \n",
    "print(\"Total number of notes that occur less than 100 times:\", len(rare_note))"
   ]
  },
  {
   "cell_type": "markdown",
   "metadata": {
    "execution": {
     "iopub.status.busy": "2022-05-09T11:13:52.367014Z",
     "iopub.status.idle": "2022-05-09T11:13:52.367999Z",
     "shell.execute_reply": "2022-05-09T11:13:52.367733Z",
     "shell.execute_reply.started": "2022-05-09T11:13:52.367707Z"
    }
   },
   "source": [
    "#Eleminating the rare notes\n",
    "for element in Corpus:\n",
    "    if element in rare_note:\n",
    "        Corpus.remove(element)\n",
    "\n",
    "print(\"Length of Corpus after elemination the rare notes:\", len(Corpus))"
   ]
  },
  {
   "cell_type": "code",
   "execution_count": 11,
   "metadata": {
    "execution": {
     "iopub.status.busy": "2022-05-09T11:13:52.369510Z",
     "iopub.status.idle": "2022-05-09T11:13:52.370225Z",
     "shell.execute_reply": "2022-05-09T11:13:52.369985Z",
     "shell.execute_reply.started": "2022-05-09T11:13:52.369959Z"
    }
   },
   "outputs": [
    {
     "name": "stdout",
     "output_type": "stream",
     "text": [
      "Total number of characters: 500\n",
      "Number of unique characters: 31\n"
     ]
    }
   ],
   "source": [
    "# Storing all the unique characters present in my corpus to bult a mapping dic. \n",
    "symb = sorted(list(set(Corpus)))\n",
    "\n",
    "L_corpus = len(Corpus) #length of corpus\n",
    "L_symb = len(symb) #length of total unique characters\n",
    "\n",
    "#Building dictionary to access the vocabulary from indices and vice versa\n",
    "mapping = dict((c, i) for i, c in enumerate(symb))\n",
    "reverse_mapping = dict((i, c) for i, c in enumerate(symb))\n",
    "\n",
    "print(\"Total number of characters:\", L_corpus)\n",
    "print(\"Number of unique characters:\", L_symb)"
   ]
  },
  {
   "cell_type": "markdown",
   "metadata": {},
   "source": [
    "**Encoding and Splitting the Corpus as Labels and Targets**"
   ]
  },
  {
   "cell_type": "code",
   "execution_count": 12,
   "metadata": {
    "execution": {
     "iopub.status.busy": "2022-05-09T11:13:52.371782Z",
     "iopub.status.idle": "2022-05-09T11:13:52.372487Z",
     "shell.execute_reply": "2022-05-09T11:13:52.372239Z",
     "shell.execute_reply.started": "2022-05-09T11:13:52.372213Z"
    }
   },
   "outputs": [
    {
     "name": "stdout",
     "output_type": "stream",
     "text": [
      "Total number of sequences in the Corpus: 244\n"
     ]
    }
   ],
   "source": [
    "#Splitting the Corpus in equal length of strings and output target\n",
    "length = 256\n",
    "features = []\n",
    "targets = []\n",
    "for i in range(0, L_corpus - length, 1):\n",
    "    feature = Corpus[i:i + length]\n",
    "    target = Corpus[i + length]\n",
    "    features.append([mapping[j] for j in feature])\n",
    "    targets.append(mapping[target])\n",
    "    \n",
    "    \n",
    "L_datapoints = len(targets)\n",
    "print(\"Total number of sequences in the Corpus:\", L_datapoints)"
   ]
  },
  {
   "cell_type": "code",
   "execution_count": 13,
   "metadata": {
    "execution": {
     "iopub.status.busy": "2022-05-09T11:13:52.373991Z",
     "iopub.status.idle": "2022-05-09T11:13:52.374736Z",
     "shell.execute_reply": "2022-05-09T11:13:52.374499Z",
     "shell.execute_reply.started": "2022-05-09T11:13:52.374472Z"
    }
   },
   "outputs": [],
   "source": [
    "# reshape X and normalize\n",
    "X = (np.reshape(features, (L_datapoints, length, 1)))\n",
    "# one hot encode the output variable\n",
    "y = tensorflow.keras.utils.to_categorical(targets) "
   ]
  },
  {
   "cell_type": "markdown",
   "metadata": {},
   "source": [
    "**Splitting Train and Seed datasets**"
   ]
  },
  {
   "cell_type": "code",
   "execution_count": 14,
   "metadata": {
    "execution": {
     "iopub.status.busy": "2022-05-09T11:13:52.376084Z",
     "iopub.status.idle": "2022-05-09T11:13:52.377027Z",
     "shell.execute_reply": "2022-05-09T11:13:52.376781Z",
     "shell.execute_reply.started": "2022-05-09T11:13:52.376736Z"
    }
   },
   "outputs": [],
   "source": [
    "#Taking out a subset of data to be used as seed\n",
    "X_train, X_seed0, y_train, y_seed = train_test_split(X, y, test_size=0.2, random_state=42)"
   ]
  },
  {
   "cell_type": "code",
   "execution_count": 15,
   "metadata": {},
   "outputs": [
    {
     "data": {
      "text/plain": [
       "array([[10,  9, 29, ..., 11, 28,  4],\n",
       "       [22, 26, 12, ..., 28,  9, 29],\n",
       "       [ 4, 12, 29, ...,  0,  9, 15],\n",
       "       ...,\n",
       "       [13, 20,  1, ...,  8,  0,  9],\n",
       "       [29,  6, 17, ..., 27, 14,  0],\n",
       "       [13, 30,  4, ...,  9, 12,  4]])"
      ]
     },
     "execution_count": 15,
     "metadata": {},
     "output_type": "execute_result"
    }
   ],
   "source": [
    "X_train[:,:,0]"
   ]
  },
  {
   "cell_type": "code",
   "execution_count": 16,
   "metadata": {},
   "outputs": [
    {
     "data": {
      "text/plain": [
       "array([[0., 0., 0., ..., 0., 0., 0.],\n",
       "       [0., 0., 0., ..., 1., 0., 0.],\n",
       "       [0., 0., 0., ..., 0., 0., 0.],\n",
       "       ...,\n",
       "       [0., 0., 0., ..., 0., 0., 0.],\n",
       "       [0., 0., 0., ..., 0., 0., 0.],\n",
       "       [0., 0., 0., ..., 0., 0., 0.]], dtype=float32)"
      ]
     },
     "execution_count": 16,
     "metadata": {},
     "output_type": "execute_result"
    }
   ],
   "source": [
    "y_train"
   ]
  },
  {
   "cell_type": "code",
   "execution_count": 17,
   "metadata": {},
   "outputs": [],
   "source": [
    "from sklearn.ensemble import RandomForestClassifier"
   ]
  },
  {
   "cell_type": "code",
   "execution_count": 18,
   "metadata": {},
   "outputs": [
    {
     "name": "stdout",
     "output_type": "stream",
     "text": [
      "Training accuracy = 1.000000\n"
     ]
    }
   ],
   "source": [
    "# train the data and see its score\n",
    "rfc = RandomForestClassifier()\n",
    "rfc.fit(X_train[:,:,0],y_train)\n",
    "prediction_rfc = rfc.predict(X_train[ :,:,0])\n",
    "print(\"Training accuracy = %f\"%(np.mean(y_train == prediction_rfc)))"
   ]
  },
  {
   "cell_type": "code",
   "execution_count": 19,
   "metadata": {},
   "outputs": [
    {
     "data": {
      "text/plain": [
       "array([[0., 0., 0., ..., 0., 0., 0.],\n",
       "       [0., 0., 0., ..., 1., 0., 0.],\n",
       "       [0., 0., 0., ..., 0., 0., 0.],\n",
       "       ...,\n",
       "       [0., 0., 0., ..., 0., 0., 0.],\n",
       "       [0., 0., 0., ..., 0., 0., 0.],\n",
       "       [0., 0., 0., ..., 0., 0., 0.]], dtype=float32)"
      ]
     },
     "execution_count": 19,
     "metadata": {},
     "output_type": "execute_result"
    }
   ],
   "source": [
    "prediction_rfc"
   ]
  },
  {
   "cell_type": "code",
   "execution_count": 20,
   "metadata": {
    "execution": {
     "iopub.status.busy": "2022-05-09T11:13:52.387252Z",
     "iopub.status.idle": "2022-05-09T11:13:52.388188Z",
     "shell.execute_reply": "2022-05-09T11:13:52.387946Z",
     "shell.execute_reply.started": "2022-05-09T11:13:52.387920Z"
    }
   },
   "outputs": [
    {
     "data": {
      "image/png": "[encoded data removed]",
      "text/plain": [
       "<IPython.core.display.Image object>"
      ]
     },
     "metadata": {},
     "output_type": "display_data"
    }
   ],
   "source": [
    "def Malody_Generator(Note_Count):\n",
    "    seed = X_seed0[np.random.randint(0,len(X_seed0)-1)]\n",
    "    Music = []\n",
    "    Notes_Generated=[]\n",
    "    for i in range(Note_Count):\n",
    "        seed = seed.reshape(1,length)\n",
    "        # print(seed)\n",
    "        prediction = rfc.predict(seed)\n",
    "        # print(prediction)\n",
    "        index = np.argmax(prediction) \n",
    "        Music.append(reverse_mapping[index])\n",
    "        seed = np.insert(seed[0],len(seed[0]),index)\n",
    "        # print(index)\n",
    "        seed = seed[1:]\n",
    "        # print(seed)\n",
    "    # Now, we have music in form or a list of chords and notes and we want to be a midi file.\n",
    "    # print(Notes_Generated)\n",
    "    Melody = chords_n_notes(Music)\n",
    "    Melody_midi = stream.Stream(Melody)   \n",
    "    return Music,Melody_midi\n",
    "\n",
    "\n",
    "#getting the Notes and Melody created by the model\n",
    "Music_notes, Melody = Malody_Generator(32)\n",
    "show(Melody)"
   ]
  },
  {
   "cell_type": "markdown",
   "metadata": {},
   "source": [
    "This sure looks like music! To check if it sounds like music we have to listen to the MIDI file. Playing midi is crumblesome. I have saved and converted a few generated melodies to \".wav\" format outside of this notebook. So let us have a listen. \n",
    "\n",
    "**Melody Generated Sample 1**"
   ]
  },
  {
   "cell_type": "code",
   "execution_count": 21,
   "metadata": {
    "execution": {
     "iopub.status.busy": "2022-05-09T11:13:52.389716Z",
     "iopub.status.idle": "2022-05-09T11:13:52.390435Z",
     "shell.execute_reply": "2022-05-09T11:13:52.390185Z",
     "shell.execute_reply.started": "2022-05-09T11:13:52.390159Z"
    }
   },
   "outputs": [
    {
     "data": {
      "text/plain": [
       "'Melody_Generated.mid'"
      ]
     },
     "execution_count": 21,
     "metadata": {},
     "output_type": "execute_result"
    }
   ],
   "source": [
    "# To save the generated melody\n",
    "Melody.write('midi','Melody_Generated.mid')\n",
    "# to play audio or corpus\n",
    "# IPython.display.Audio(\"F:/Jupyter/Music/ML/Melody_Generated.mid\"):\n",
    "# Audio('F:/Jupyter/Music/ML/Melody_Generated.mid', autoplay=True)"
   ]
  },
  {
   "cell_type": "markdown",
   "metadata": {},
   "source": [
    "**Melody Generated Sample 2**"
   ]
  },
  {
   "cell_type": "markdown",
   "metadata": {
    "execution": {
     "iopub.status.busy": "2022-05-09T11:13:52.391949Z",
     "iopub.status.idle": "2022-05-09T11:13:52.392668Z",
     "shell.execute_reply": "2022-05-09T11:13:52.392426Z",
     "shell.execute_reply.started": "2022-05-09T11:13:52.392400Z"
    }
   },
   "source": [
    "#to play audio or corpus\n",
    "IPython.display.Audio(\"../input/music-generated-lstm/Melody_Generated_1.wav\")"
   ]
  }
 ],
 "metadata": {
  "kernelspec": {
   "display_name": "Python 3 (ipykernel)",
   "language": "python",
   "name": "python3"
  },
  "language_info": {
   "codemirror_mode": {
    "name": "ipython",
    "version": 3
   },
   "file_extension": ".py",
   "mimetype": "text/x-python",
   "name": "python",
   "nbconvert_exporter": "python",
   "pygments_lexer": "ipython3",
   "version": "3.10.4"
  }
 },
 "nbformat": 4,
 "nbformat_minor": 4
}
